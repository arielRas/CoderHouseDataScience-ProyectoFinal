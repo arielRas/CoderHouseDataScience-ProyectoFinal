{
 "cells": [
  {
   "cell_type": "code",
   "execution_count": 9,
   "metadata": {},
   "outputs": [],
   "source": [
    "import pandas as pd\n",
    "import numpy as np\n",
    "import seaborn as sns\n",
    "import matplotlib as mpl\n",
    "from matplotlib import pyplot as plt\n",
    "from sklearn.ensemble import RandomForestClassifier\n",
    "from sklearn.preprocessing import StandardScaler\n",
    "from sklearn.decomposition import PCA\n",
    "from sklearn.model_selection import train_test_split\n",
    "from sklearn.metrics import confusion_matrix\n",
    "from sklearn.metrics import classification_report, accuracy_score\n",
    "from sklearn.metrics import roc_auc_score, roc_curve\n",
    "from Functions import Metrics"
   ]
  },
  {
   "cell_type": "code",
   "execution_count": 2,
   "metadata": {},
   "outputs": [
    {
     "data": {
      "text/html": [
       "<div>\n",
       "<style scoped>\n",
       "    .dataframe tbody tr th:only-of-type {\n",
       "        vertical-align: middle;\n",
       "    }\n",
       "\n",
       "    .dataframe tbody tr th {\n",
       "        vertical-align: top;\n",
       "    }\n",
       "\n",
       "    .dataframe thead th {\n",
       "        text-align: right;\n",
       "    }\n",
       "</style>\n",
       "<table border=\"1\" class=\"dataframe\">\n",
       "  <thead>\n",
       "    <tr style=\"text-align: right;\">\n",
       "      <th></th>\n",
       "      <th>index</th>\n",
       "      <th>Booking_ID</th>\n",
       "      <th>num_adults</th>\n",
       "      <th>num_children</th>\n",
       "      <th>weekend_nights</th>\n",
       "      <th>week_nights</th>\n",
       "      <th>total_nights</th>\n",
       "      <th>meal_plan</th>\n",
       "      <th>car_parking</th>\n",
       "      <th>room_type</th>\n",
       "      <th>...</th>\n",
       "      <th>num_prev_cancellations</th>\n",
       "      <th>num_prev_not_canceled</th>\n",
       "      <th>avg_price_room</th>\n",
       "      <th>num_sp_requests</th>\n",
       "      <th>booking_status</th>\n",
       "      <th>meal_plan_cod</th>\n",
       "      <th>room_type_cod</th>\n",
       "      <th>mkt_segment_cod</th>\n",
       "      <th>arrival_season_cod</th>\n",
       "      <th>booking_status_cod</th>\n",
       "    </tr>\n",
       "  </thead>\n",
       "  <tbody>\n",
       "    <tr>\n",
       "      <th>0</th>\n",
       "      <td>0</td>\n",
       "      <td>INN00001</td>\n",
       "      <td>2</td>\n",
       "      <td>0</td>\n",
       "      <td>1</td>\n",
       "      <td>2</td>\n",
       "      <td>3</td>\n",
       "      <td>Meal Plan 1</td>\n",
       "      <td>0</td>\n",
       "      <td>Room_Type 1</td>\n",
       "      <td>...</td>\n",
       "      <td>0</td>\n",
       "      <td>0</td>\n",
       "      <td>65.00</td>\n",
       "      <td>0</td>\n",
       "      <td>No cancelada</td>\n",
       "      <td>1</td>\n",
       "      <td>1</td>\n",
       "      <td>3</td>\n",
       "      <td>3</td>\n",
       "      <td>0</td>\n",
       "    </tr>\n",
       "    <tr>\n",
       "      <th>1</th>\n",
       "      <td>1</td>\n",
       "      <td>INN00002</td>\n",
       "      <td>2</td>\n",
       "      <td>0</td>\n",
       "      <td>2</td>\n",
       "      <td>3</td>\n",
       "      <td>5</td>\n",
       "      <td>Not Selected</td>\n",
       "      <td>0</td>\n",
       "      <td>Room_Type 1</td>\n",
       "      <td>...</td>\n",
       "      <td>0</td>\n",
       "      <td>0</td>\n",
       "      <td>106.68</td>\n",
       "      <td>1</td>\n",
       "      <td>No cancelada</td>\n",
       "      <td>0</td>\n",
       "      <td>1</td>\n",
       "      <td>4</td>\n",
       "      <td>1</td>\n",
       "      <td>0</td>\n",
       "    </tr>\n",
       "    <tr>\n",
       "      <th>2</th>\n",
       "      <td>2</td>\n",
       "      <td>INN00003</td>\n",
       "      <td>1</td>\n",
       "      <td>0</td>\n",
       "      <td>2</td>\n",
       "      <td>1</td>\n",
       "      <td>3</td>\n",
       "      <td>Meal Plan 1</td>\n",
       "      <td>0</td>\n",
       "      <td>Room_Type 1</td>\n",
       "      <td>...</td>\n",
       "      <td>0</td>\n",
       "      <td>0</td>\n",
       "      <td>60.00</td>\n",
       "      <td>0</td>\n",
       "      <td>Cancelada</td>\n",
       "      <td>1</td>\n",
       "      <td>1</td>\n",
       "      <td>4</td>\n",
       "      <td>1</td>\n",
       "      <td>1</td>\n",
       "    </tr>\n",
       "  </tbody>\n",
       "</table>\n",
       "<p>3 rows × 27 columns</p>\n",
       "</div>"
      ],
      "text/plain": [
       "   index Booking_ID  num_adults  num_children  weekend_nights  week_nights  \\\n",
       "0      0   INN00001           2             0               1            2   \n",
       "1      1   INN00002           2             0               2            3   \n",
       "2      2   INN00003           1             0               2            1   \n",
       "\n",
       "   total_nights     meal_plan  car_parking    room_type  ...  \\\n",
       "0             3   Meal Plan 1            0  Room_Type 1  ...   \n",
       "1             5  Not Selected            0  Room_Type 1  ...   \n",
       "2             3   Meal Plan 1            0  Room_Type 1  ...   \n",
       "\n",
       "   num_prev_cancellations  num_prev_not_canceled  avg_price_room  \\\n",
       "0                       0                      0           65.00   \n",
       "1                       0                      0          106.68   \n",
       "2                       0                      0           60.00   \n",
       "\n",
       "   num_sp_requests booking_status meal_plan_cod  room_type_cod  \\\n",
       "0                0   No cancelada             1              1   \n",
       "1                1   No cancelada             0              1   \n",
       "2                0      Cancelada             1              1   \n",
       "\n",
       "   mkt_segment_cod  arrival_season_cod  booking_status_cod  \n",
       "0                3                   3                   0  \n",
       "1                4                   1                   0  \n",
       "2                4                   1                   1  \n",
       "\n",
       "[3 rows x 27 columns]"
      ]
     },
     "execution_count": 2,
     "metadata": {},
     "output_type": "execute_result"
    }
   ],
   "source": [
    "df = pd.read_csv('Hotel_Reservations_clean.csv')\n",
    "df.head(3)"
   ]
  },
  {
   "cell_type": "markdown",
   "metadata": {},
   "source": [
    "## Modelado"
   ]
  },
  {
   "cell_type": "markdown",
   "metadata": {},
   "source": [
    "### Pre-Procesamiento"
   ]
  },
  {
   "cell_type": "markdown",
   "metadata": {},
   "source": [
    "#### Codificacion de variables cualitativas"
   ]
  },
  {
   "cell_type": "code",
   "execution_count": 3,
   "metadata": {},
   "outputs": [
    {
     "data": {
      "text/html": [
       "<div>\n",
       "<style scoped>\n",
       "    .dataframe tbody tr th:only-of-type {\n",
       "        vertical-align: middle;\n",
       "    }\n",
       "\n",
       "    .dataframe tbody tr th {\n",
       "        vertical-align: top;\n",
       "    }\n",
       "\n",
       "    .dataframe thead th {\n",
       "        text-align: right;\n",
       "    }\n",
       "</style>\n",
       "<table border=\"1\" class=\"dataframe\">\n",
       "  <thead>\n",
       "    <tr style=\"text-align: right;\">\n",
       "      <th></th>\n",
       "      <th>Aviation</th>\n",
       "      <th>Complementary</th>\n",
       "      <th>Corporate</th>\n",
       "      <th>Offline</th>\n",
       "      <th>Online</th>\n",
       "    </tr>\n",
       "  </thead>\n",
       "  <tbody>\n",
       "    <tr>\n",
       "      <th>0</th>\n",
       "      <td>0</td>\n",
       "      <td>0</td>\n",
       "      <td>0</td>\n",
       "      <td>1</td>\n",
       "      <td>0</td>\n",
       "    </tr>\n",
       "    <tr>\n",
       "      <th>1</th>\n",
       "      <td>0</td>\n",
       "      <td>0</td>\n",
       "      <td>0</td>\n",
       "      <td>0</td>\n",
       "      <td>1</td>\n",
       "    </tr>\n",
       "    <tr>\n",
       "      <th>2</th>\n",
       "      <td>0</td>\n",
       "      <td>0</td>\n",
       "      <td>0</td>\n",
       "      <td>0</td>\n",
       "      <td>1</td>\n",
       "    </tr>\n",
       "  </tbody>\n",
       "</table>\n",
       "</div>"
      ],
      "text/plain": [
       "   Aviation  Complementary  Corporate  Offline  Online\n",
       "0         0              0          0        1       0\n",
       "1         0              0          0        0       1\n",
       "2         0              0          0        0       1"
      ]
     },
     "execution_count": 3,
     "metadata": {},
     "output_type": "execute_result"
    }
   ],
   "source": [
    "var_dummy = pd.get_dummies(df.mkt_segment, dtype=int)\n",
    "var_dummy.head(3)"
   ]
  },
  {
   "cell_type": "markdown",
   "metadata": {},
   "source": [
    "### Feature engineering"
   ]
  },
  {
   "cell_type": "code",
   "execution_count": 4,
   "metadata": {},
   "outputs": [
    {
     "name": "stdout",
     "output_type": "stream",
     "text": [
      "Varianza explicada por la variable reducida: [0.52167988]\n"
     ]
    }
   ],
   "source": [
    "#SE ESTANDARIZAN VARIABLES (µ=0; σ=1)\n",
    "scaler = StandardScaler()\n",
    "date_vars = scaler.fit_transform(df[['arrival_day', 'arrival_month']])\n",
    "\n",
    "#REDUCCION DE DIMENSIONALIDAD\n",
    "pca = PCA(n_components=1)\n",
    "reduce_vars = pca.fit_transform(date_vars)\n",
    "reduce_vars = pd.Series(reduce_vars.flatten(), name='reduce_var')\n",
    "\n",
    "#RESULTADO\n",
    "print(f'Varianza explicada por la variable reducida: {pca.explained_variance_ratio_}')"
   ]
  },
  {
   "cell_type": "code",
   "execution_count": 5,
   "metadata": {},
   "outputs": [
    {
     "data": {
      "text/html": [
       "<div>\n",
       "<style scoped>\n",
       "    .dataframe tbody tr th:only-of-type {\n",
       "        vertical-align: middle;\n",
       "    }\n",
       "\n",
       "    .dataframe tbody tr th {\n",
       "        vertical-align: top;\n",
       "    }\n",
       "\n",
       "    .dataframe thead th {\n",
       "        text-align: right;\n",
       "    }\n",
       "</style>\n",
       "<table border=\"1\" class=\"dataframe\">\n",
       "  <thead>\n",
       "    <tr style=\"text-align: right;\">\n",
       "      <th></th>\n",
       "      <th>lead_time</th>\n",
       "      <th>avg_price_room</th>\n",
       "    </tr>\n",
       "  </thead>\n",
       "  <tbody>\n",
       "    <tr>\n",
       "      <th>0</th>\n",
       "      <td>1.615007</td>\n",
       "      <td>-1.369842</td>\n",
       "    </tr>\n",
       "    <tr>\n",
       "      <th>1</th>\n",
       "      <td>-0.932939</td>\n",
       "      <td>0.130451</td>\n",
       "    </tr>\n",
       "    <tr>\n",
       "      <th>2</th>\n",
       "      <td>-0.979477</td>\n",
       "      <td>-1.549819</td>\n",
       "    </tr>\n",
       "  </tbody>\n",
       "</table>\n",
       "</div>"
      ],
      "text/plain": [
       "   lead_time  avg_price_room\n",
       "0   1.615007       -1.369842\n",
       "1  -0.932939        0.130451\n",
       "2  -0.979477       -1.549819"
      ]
     },
     "execution_count": 5,
     "metadata": {},
     "output_type": "execute_result"
    }
   ],
   "source": [
    "#SE ESTANDARIZAN VARIABLES (µ=0; σ=1)\n",
    "std_vars = pd.DataFrame(StandardScaler().fit_transform(df[['lead_time', 'avg_price_room']]),\n",
    "                        columns=['lead_time', 'avg_price_room'])\n",
    "\n",
    "#RESULTADO\n",
    "std_vars.head(3)"
   ]
  },
  {
   "cell_type": "code",
   "execution_count": 6,
   "metadata": {},
   "outputs": [],
   "source": [
    "#SELECCION DE VARIABLES PARA EL ENTRENAMIENTO\n",
    "vars = ['num_sp_requests','car_parking', 'meal_plan_cod', 'num_adults',\n",
    "        'num_children','weekend_nights', 'week_nights','room_type_cod']\n",
    "\n",
    "x = pd.concat([df[vars], std_vars, reduce_vars,var_dummy], axis=1)\n",
    "\n",
    "y = df.booking_status_cod"
   ]
  },
  {
   "cell_type": "markdown",
   "metadata": {},
   "source": [
    "### Entrenamiento, validacion y métricas"
   ]
  },
  {
   "cell_type": "markdown",
   "metadata": {},
   "source": [
    "#### Entrenamiento y validacion simple"
   ]
  },
  {
   "cell_type": "code",
   "execution_count": 7,
   "metadata": {},
   "outputs": [],
   "source": [
    "#SPLIT DE LOS DATOS PARA ENTRENAR Y VALIDAR\n",
    "X_train, X_test, y_train, y_test = train_test_split(x, y, test_size=0.33, stratify=y, random_state=42)\n",
    "\n",
    "#INSTANCIA Y ENTRENAMIENTO DEL MODELO\n",
    "model = RandomForestClassifier(max_depth=18, max_features=0.5, n_estimators=300, random_state=42)\n",
    "model.fit(X_train, y_train)\n",
    "\n",
    "#PREDICCION\n",
    "y_pred = model.predict(X_test)"
   ]
  },
  {
   "cell_type": "code",
   "execution_count": 10,
   "metadata": {},
   "outputs": [
    {
     "data": {
      "image/png": "[encoded data removed]",
      "text/plain": [
       "<Figure size 640x480 with 2 Axes>"
      ]
     },
     "metadata": {},
     "output_type": "display_data"
    }
   ],
   "source": [
    "#GRAFICO DE MATRIZ DE CONFUSION\n",
    "Metrics().plot_matrix_confusion(y_test, y_pred)"
   ]
  },
  {
   "cell_type": "code",
   "execution_count": 11,
   "metadata": {},
   "outputs": [
    {
     "name": "stdout",
     "output_type": "stream",
     "text": [
      "              precision    recall  f1-score   support\n",
      "\n",
      "           0       0.91      0.94      0.92      8017\n",
      "           1       0.87      0.80      0.83      3907\n",
      "\n",
      "    accuracy                           0.89     11924\n",
      "   macro avg       0.89      0.87      0.88     11924\n",
      "weighted avg       0.89      0.89      0.89     11924\n",
      "\n"
     ]
    }
   ],
   "source": [
    "#REPORTE DE METRICAS\n",
    "print(classification_report(y_true=y_test, y_pred=y_pred))"
   ]
  },
  {
   "cell_type": "code",
   "execution_count": 12,
   "metadata": {},
   "outputs": [
    {
     "name": "stdout",
     "output_type": "stream",
     "text": [
      "Score curva ROC: 0.9501210299242852\n"
     ]
    }
   ],
   "source": [
    "#SCORE CURVA ROC\n",
    "y_prob = model.predict_proba(X_test)[:,1]\n",
    "print(f'Score curva ROC: {roc_auc_score(y_test, y_prob)}')"
   ]
  },
  {
   "cell_type": "code",
   "execution_count": 13,
   "metadata": {},
   "outputs": [
    {
     "data": {
      "image/png": "[encoded data removed]",
      "text/plain": [
       "<Figure size 640x480 with 1 Axes>"
      ]
     },
     "metadata": {},
     "output_type": "display_data"
    }
   ],
   "source": [
    "#GRAFICO CURVA ROC\n",
    "Metrics.plot_roc_curve(y_test, y_prob)"
   ]
  },
  {
   "cell_type": "markdown",
   "metadata": {},
   "source": [
    "#### Entrenamiento y validacion cruzada"
   ]
  },
  {
   "cell_type": "code",
   "execution_count": 14,
   "metadata": {},
   "outputs": [],
   "source": [
    "#IMPORTACION DE HERRAMIENTA\n",
    "from sklearn.model_selection import StratifiedKFold\n",
    "\n",
    "#SE INSTANCIA MODELO DE VALIDACION CRUZADA\n",
    "skf = StratifiedKFold(n_splits=5, shuffle=True, random_state=42)\n",
    "\n",
    "#DIVICION DE DE DATOS PARA ITERACIONES\n",
    "train_test = list(skf.split(x,y))"
   ]
  },
  {
   "cell_type": "code",
   "execution_count": 15,
   "metadata": {},
   "outputs": [
    {
     "name": "stdout",
     "output_type": "stream",
     "text": [
      "Accuracy iteracion 1: 0.8932\n",
      "Accuracy iteracion 2: 0.8922\n",
      "Accuracy iteracion 3: 0.8901\n",
      "Accuracy iteracion 4: 0.8963\n",
      "Accuracy iteracion 5: 0.8961\n",
      "Accuracy promedio: 0.8936\n"
     ]
    }
   ],
   "source": [
    "#LISTA PARA GUARDAR METRICAS\n",
    "accuracies = []\n",
    "\n",
    "#EJECUCION DE LA LOGICA DE MODELO\n",
    "for k in range(skf.get_n_splits(x,y)):\n",
    "    #Separacion de datos para train y test\n",
    "    train, test = train_test[k]\n",
    "    X_train, y_train, X_test, y_test = x.iloc[train], y.iloc[train], x.iloc[test], y.iloc[test]\n",
    "\n",
    "    #Entrenamiento y prediccion\n",
    "    model.fit(X_train, y_train)\n",
    "    y_pred = model.predict(X_test)\n",
    "\n",
    "    #Guardado de resultados\n",
    "    accuracy = accuracy_score(y_test, y_pred)\n",
    "    accuracies.append(accuracy)\n",
    "    print(f'Accuracy iteracion {k+1}: {accuracy:.4f}')\n",
    "\n",
    "#PROMEDIO DE ACCURACY\n",
    "print(f'Accuracy promedio: {np.array(accuracies).mean():.4f}')"
   ]
  },
  {
   "cell_type": "markdown",
   "metadata": {},
   "source": [
    "### Mejora con boosting"
   ]
  },
  {
   "cell_type": "markdown",
   "metadata": {},
   "source": [
    "#### Entrenamiento y metricas XG-Boosting"
   ]
  },
  {
   "cell_type": "code",
   "execution_count": 16,
   "metadata": {},
   "outputs": [],
   "source": [
    "#SEPARACION DE DATOS PARA TRAIN Y TEST\n",
    "X_train, X_test, y_train, y_test = train_test_split(x, y, test_size=0.33, stratify=y, random_state=42)\n",
    "\n",
    "#GRILLA DE PARAMETROS PARA TESTEAR\n",
    "param_grid = {\n",
    "    'objective' :['binary:logistic'],\n",
    "    'max_depth': [10, 15],\n",
    "    'learning_rate': [0.1, 0.2],\n",
    "    'n_estimators': [9, 15],\n",
    "    'subsample': [0.8, 0.9],\n",
    "    'colsample_bytree': [0.8, 0.9],\n",
    "    'gamma': [0.1, 0.2],\n",
    "    'random_state': [47]\n",
    "}"
   ]
  },
  {
   "cell_type": "code",
   "execution_count": 20,
   "metadata": {},
   "outputs": [
    {
     "name": "stdout",
     "output_type": "stream",
     "text": [
      "Mejores Hyper-Parametros:\n",
      "\tcolsample_bytree: 0.8\n",
      "\tgamma: 0.1\n",
      "\tlearning_rate: 0.2\n",
      "\tmax_depth: 15\n",
      "\tn_estimators: 15\n",
      "\tobjective: binary:logistic\n",
      "\trandom_state: 47\n",
      "\tsubsample: 0.8\n"
     ]
    }
   ],
   "source": [
    "#IMPORTACION DE MODELOS\n",
    "from xgboost import XGBClassifier\n",
    "from sklearn.model_selection import GridSearchCV\n",
    "\n",
    "#SE ENTRENA MODELO UTILIZANDO GRIDSEARCH\n",
    "model = GridSearchCV(estimator=XGBClassifier(),\n",
    "                     param_grid=param_grid,\n",
    "                     cv=3, n_jobs=-1,\n",
    "                     scoring='accuracy')\n",
    "\n",
    "#ENTRENAMIENTO\n",
    "model.fit(X_train,y_train)\n",
    "\n",
    "#MEJORES PARAMETROS ENCONTRADOS\n",
    "print('Mejores Hyper-Parametros:')\n",
    "for key, value in model.best_params_.items():\n",
    "    print(f'\\t{key}: {value}')\n",
    "\n",
    "#PREDICCION\n",
    "y_pred = model.predict(X_test)"
   ]
  },
  {
   "cell_type": "code",
   "execution_count": 30,
   "metadata": {},
   "outputs": [
    {
     "data": {
      "image/png": "[encoded data removed]",
      "text/plain": [
       "<Figure size 640x480 with 2 Axes>"
      ]
     },
     "metadata": {},
     "output_type": "display_data"
    }
   ],
   "source": [
    "#GRAFICO MATRIZ DE CONFUSION\n",
    "Metrics().plot_matrix_confusion(y_test, y_pred)"
   ]
  },
  {
   "cell_type": "code",
   "execution_count": 24,
   "metadata": {},
   "outputs": [
    {
     "name": "stdout",
     "output_type": "stream",
     "text": [
      "              precision    recall  f1-score   support\n",
      "\n",
      "           0       0.90      0.94      0.92      8017\n",
      "           1       0.86      0.78      0.82      3907\n",
      "\n",
      "    accuracy                           0.89     11924\n",
      "   macro avg       0.88      0.86      0.87     11924\n",
      "weighted avg       0.89      0.89      0.89     11924\n",
      "\n"
     ]
    }
   ],
   "source": [
    "#REPORTE DE METRICAS\n",
    "print(classification_report(y_true=y_test, y_pred=y_pred))"
   ]
  },
  {
   "cell_type": "code",
   "execution_count": 25,
   "metadata": {},
   "outputs": [
    {
     "name": "stdout",
     "output_type": "stream",
     "text": [
      "Score curva ROC: 0.944973933845914\n"
     ]
    }
   ],
   "source": [
    "#SCORE CURVA ROC\n",
    "y_prob = model.predict_proba(X_test)[:,1]\n",
    "print(f'Score curva ROC: {roc_auc_score(y_test, y_prob)}')"
   ]
  },
  {
   "cell_type": "code",
   "execution_count": 28,
   "metadata": {},
   "outputs": [
    {
     "data": {
      "image/png": "[encoded data removed]",
      "text/plain": [
       "<Figure size 640x480 with 1 Axes>"
      ]
     },
     "metadata": {},
     "output_type": "display_data"
    }
   ],
   "source": [
    "#GRAFICO CURVA ROC\n",
    "Metrics.plot_roc_curve(y_test, y_prob)"
   ]
  },
  {
   "cell_type": "markdown",
   "metadata": {},
   "source": [
    "#### Entrenamiento y validacion cruzada"
   ]
  },
  {
   "cell_type": "code",
   "execution_count": 18,
   "metadata": {},
   "outputs": [
    {
     "name": "stdout",
     "output_type": "stream",
     "text": [
      "Accuracy iteracion 1: 0.8857\n",
      "Accuracy iteracion 2: 0.8868\n",
      "Accuracy iteracion 3: 0.8858\n",
      "Accuracy iteracion 4: 0.8867\n",
      "Accuracy iteracion 5: 0.8832\n",
      "Accuracy promedio: 0.8856\n"
     ]
    }
   ],
   "source": [
    "#LISTA PARA GUARDAR METRICAS\n",
    "accuracies = []\n",
    "\n",
    "#EJECUCION DE LA LOGICA DE MODELO\n",
    "for k in range(skf.get_n_splits(x,y)):\n",
    "    #Separacion de datos para train y test\n",
    "    train, test = train_test[k]\n",
    "    X_train, y_train, X_test, y_test = x.iloc[train], y.iloc[train], x.iloc[test], y.iloc[test]\n",
    "\n",
    "    #Entrenamiento y prediccion\n",
    "    model.fit(X_train, y_train)\n",
    "    y_pred = model.predict(X_test)\n",
    "\n",
    "    #Guardado de resultados\n",
    "    accuracy = accuracy_score(y_test, y_pred)\n",
    "    accuracies.append(accuracy)\n",
    "    print(f'Accuracy iteracion {k+1}: {accuracy:.4f}')\n",
    "\n",
    "#PROMEDIO DE ACCURACY\n",
    "print(f'Accuracy promedio: {np.array(accuracies).mean():.4f}')\n"
   ]
  }
 ],
 "metadata": {
  "kernelspec": {
   "display_name": "Python 3",
   "language": "python",
   "name": "python3"
  },
  "language_info": {
   "codemirror_mode": {
    "name": "ipython",
    "version": 3
   },
   "file_extension": ".py",
   "mimetype": "text/x-python",
   "name": "python",
   "nbconvert_exporter": "python",
   "pygments_lexer": "ipython3",
   "version": "3.12.2"
  }
 },
 "nbformat": 4,
 "nbformat_minor": 2
}
