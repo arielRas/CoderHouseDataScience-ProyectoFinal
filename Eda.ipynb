{
 "cells": [
  {
   "cell_type": "markdown",
   "metadata": {},
   "source": [
    "## Librerias y Funciones"
   ]
  },
  {
   "cell_type": "code",
   "execution_count": null,
   "metadata": {},
   "outputs": [],
   "source": [
    "import pandas as pd\n",
    "import numpy as np\n",
    "import math\n",
    "import re\n",
    "import matplotlib as mpl\n",
    "from matplotlib import pyplot as plt\n",
    "import seaborn as sns\n",
    "#import plotly.express as px\n",
    "#import plotly.graph_objects as go\n",
    "from scipy import stats\n",
    "from scipy.stats import spearmanr\n",
    "from sklearn.preprocessing import LabelEncoder"
   ]
  },
  {
   "cell_type": "code",
   "execution_count": null,
   "metadata": {},
   "outputs": [],
   "source": [
    "class PlotCorrelation():\n",
    "    def __init__(self, df:pd.DataFrame, target_var:str, vars:list, vars_type:str):\n",
    "        self.df = df\n",
    "        self.target_var = target_var\n",
    "        self.vars = vars\n",
    "        self.vars_type = vars_type\n",
    "\n",
    "    #CREA UN DATAFRAME VACIO PARA ALOJAR LAS CORRELACIONES\n",
    "    def _get_correlation_dataframe(self) -> pd.DataFrame:\n",
    "        df_corr = pd.DataFrame(index=self.vars, columns=['correlation'])\n",
    "        return df_corr    \n",
    "\n",
    "    #DEVUELVE EL NUMERO MULTIPLO DE 10 SUPERIOR INMEDIATO AL VALOR MAXIMO DE LA SERIE\n",
    "    def _get_limit_value(self, values:pd.Series) -> float:\n",
    "        limit_value = values.abs().round(2).max()\n",
    "        limit_value = np.ceil(limit_value*10)/10\n",
    "        return limit_value\n",
    "\n",
    "    #FUNCION PARA PLOTEAR CORRELACION DE PUNTO BISERIAL\n",
    "    def plot_biserial_point(self):\n",
    "        df_corr = self._get_correlation_dataframe()\n",
    "        corr_list = [stats.pointbiserialr(self.df[self.target_var], self.df[var]) for var in self.vars]\n",
    "        for var, corr in zip(self.vars, corr_list):\n",
    "            df_corr.loc[var, 'correlation'] = corr.statistic\n",
    "        self._plot_correlation(df_corr)\n",
    "\n",
    "    #FUNCION PARA PLOTEAR COEFICIENTE DE CONTIGENCIA\n",
    "    def plot_coef_contingency(self):\n",
    "        df_corr = self._get_correlation_dataframe()\n",
    "        for var in self.vars:\n",
    "            contingency_table = pd.crosstab(self.df[var], self.df[self.target_var])\n",
    "            chi_2 = stats.chi2_contingency(contingency_table)\n",
    "            df_corr.loc[var, 'correlation'] = math.sqrt(chi_2.statistic/(self.df.shape[0]+chi_2.statistic))\n",
    "        self._plot_correlation(df_corr)\n",
    "\n",
    "    #FUNCION PARA PLOTEAR EL GRAFICO DE BARRAS\n",
    "    def _plot_correlation(self, df_corr:pd.DataFrame):\n",
    "        colors = ['#000E9E' if corr < 0 else '#3DB2DA' for corr in df_corr.correlation]\n",
    "        limit_value = self._get_limit_value(df_corr.correlation)\n",
    "        plt.style.use(\"bmh\")\n",
    "        plt.figure(figsize=(8,5))  \n",
    "        sns.barplot(x=df_corr.correlation, y=df_corr.index, hue=df_corr.index, palette=colors)\n",
    "        plt.title(f'Correlacion de variable objetivo con variables {self.vars_type}', fontsize=14)\n",
    "        plt.xlabel('Coeficiente de correlacion')\n",
    "        plt.ylabel(f'Variables {self.vars_type}')\n",
    "        plt.xlim(-1*limit_value, limit_value)\n",
    "        plt.axvline(x=0, color='black', linestyle='-')\n",
    "        plt.tight_layout()\n",
    "        plt.show()\n",
    "        plt.style.use(\"default\")  "
   ]
  },
  {
   "cell_type": "markdown",
   "metadata": {},
   "source": [
    "### APERTURA DE ARCHIVO"
   ]
  },
  {
   "cell_type": "code",
   "execution_count": null,
   "metadata": {},
   "outputs": [],
   "source": [
    "df = pd.read_csv('Hotel_Reservations_clean.csv')\n",
    "df.info()"
   ]
  },
  {
   "cell_type": "markdown",
   "metadata": {},
   "source": [
    "### Analisis de correlaciones"
   ]
  },
  {
   "cell_type": "markdown",
   "metadata": {},
   "source": [
    "En esta seccion perteneciente al ***EDA*** se analizaran las correlaciones de todas las variables contra la variable objetivo ***booking_status_id***, esta representa la dicotomia de la variable ***booking_status*** de manera numerica para poder utilizar los metodos de correlacion."
   ]
  },
  {
   "cell_type": "markdown",
   "metadata": {},
   "source": [
    "#### Separacion de variables segun su tipo"
   ]
  },
  {
   "cell_type": "code",
   "execution_count": null,
   "metadata": {},
   "outputs": [],
   "source": [
    "numeric_var = ['num_adults', 'num_children', 'weekend_nights','week_nights',\n",
    "                'total_nights', 'lead_time','num_prev_cancellations',\n",
    "                'num_prev_not_canceled', 'avg_price_room', 'num_sp_requests']\n",
    "\n",
    "nominal_var = ['repeated_guest', 'car_parking', 'arrival_season_cod', 'mkt_segment_cod']\n",
    "\n",
    "ordinal_var = ['meal_plan_cod','room_type_cod']"
   ]
  },
  {
   "cell_type": "markdown",
   "metadata": {},
   "source": [
    "#### Matriz de correlacion (Pearlson)"
   ]
  },
  {
   "cell_type": "code",
   "execution_count": null,
   "metadata": {},
   "outputs": [],
   "source": [
    "matrix = df.corr(numeric_only=True)\n",
    "plt.figure(figsize=(16,8))\n",
    "sns.heatmap(matrix, fmt='.2f', annot=True, cmap='inferno')\n",
    "plt.title('Matriz de correlacion')\n",
    "plt.tight_layout()\n",
    "plt.show()"
   ]
  },
  {
   "cell_type": "markdown",
   "metadata": {},
   "source": [
    "#### Correlacion de variable ***booking_status*** con variables cuantitativas y ordinales"
   ]
  },
  {
   "cell_type": "markdown",
   "metadata": {},
   "source": [
    "Se utiliza el ***coeficiente de correlacion punto biserial*** para determinar la relacion entre las variables cuantitativas y la variable de interes ***booking_status*** que es de tipo nominal dicotomica."
   ]
  },
  {
   "cell_type": "code",
   "execution_count": null,
   "metadata": {},
   "outputs": [],
   "source": [
    "PlotCorrelation(df, 'booking_status_cod', numeric_var, 'numericas').plot_biserial_point()"
   ]
  },
  {
   "cell_type": "markdown",
   "metadata": {},
   "source": [
    "#### Correlacion de variable objetivo ***booking_status*** con variables de origen nominal"
   ]
  },
  {
   "cell_type": "markdown",
   "metadata": {},
   "source": [
    "Se utiliza la ***coeficiente de contingencia*** para determinar la relacion entre las variables nominales y la variable de interes ***booking_status*** que es de tipo nominal dicotomica. Para ello se obtiene el estadisitico de prueba ***Chi cuadrado*** utilizando la libreria ***scipy*** para posteriormente obtener el coeficiente con la formula que se muestra acontinuacion:\n",
    "$$\n",
    "C = \\sqrt{\\frac{x^2}{N+x^2}}\n",
    "$$\n",
    "X²: Estadistico Chi²<br>\n",
    "N: Cantidadad de observaciones totales<br>\n",
    "C: coeficiente de contingencia<br>"
   ]
  },
  {
   "cell_type": "code",
   "execution_count": null,
   "metadata": {},
   "outputs": [],
   "source": [
    "PlotCorrelation(df, 'booking_status_cod', nominal_var, 'nominales').plot_coef_contingency()"
   ]
  },
  {
   "cell_type": "markdown",
   "metadata": {},
   "source": [
    "### Graficos de exploracion"
   ]
  },
  {
   "cell_type": "markdown",
   "metadata": {},
   "source": [
    "#### Comportamiento de la reservas"
   ]
  },
  {
   "cell_type": "code",
   "execution_count": null,
   "metadata": {},
   "outputs": [],
   "source": [
    "#GRAFICO DE TORTA RESERVAS CANCELADAS Y NO CANCELADAS\n",
    "count = df.booking_status.value_counts()\n",
    "plt.pie(count, autopct='%1.1f%%', startangle=180)\n",
    "plt.title('Porcentaje de reservas canceladas y no canceladas')\n",
    "\n",
    "plt.tight_layout()\n",
    "plt.show()"
   ]
  },
  {
   "cell_type": "code",
   "execution_count": null,
   "metadata": {},
   "outputs": [],
   "source": [
    "#COMPORTAMIENTO ANUAL DE LAS RESERVAS\n",
    "fig, ax = plt.subplots(nrows=1, ncols=2, figsize=(10,5))\n",
    "sns.countplot(x=df.arrival_year,ax=ax[0])\n",
    "ax[0].set_title('Conteo de las reservas por año')\n",
    "ax[0].set_xlabel('Año del arribo')\n",
    "ax[0].set_ylabel('Frecuencia')\n",
    "\n",
    "sns.countplot(x=df.arrival_year,hue=df.booking_status, stat='proportion', ax=ax[1])\n",
    "ax[1].set_title('Proporciones de las reservas por año')\n",
    "ax[1].set_xlabel('Año del arribo')\n",
    "ax[1].set_ylabel('Proporcion')\n",
    "ax[1].get_legend().set_title('Estado de la reserva')\n",
    "\n",
    "plt.tight_layout()\n",
    "plt.show()"
   ]
  },
  {
   "cell_type": "code",
   "execution_count": null,
   "metadata": {},
   "outputs": [],
   "source": [
    "#COMPORTAMIENTO MENSUAL DE LAS RESERVAS\n",
    "bookings = df.groupby(['arrival_year','arrival_month','booking_status'])['booking_status'].count().reset_index(name='count')\n",
    "months = ['Ene','Feb','Mar', 'Abr', 'May', 'Jun', 'Jul', 'Ago', 'Sep', 'Oct', 'Nov', 'Dic']\n",
    "\n",
    "#GRAFICO\n",
    "mpl.style.use('ggplot')\n",
    "fig, ax = plt.subplots(nrows=1, ncols=2, figsize=(13,5))\n",
    "\n",
    "#AÑO 2017\n",
    "data=bookings.loc[bookings.arrival_year==2017]\n",
    "sns.lineplot(data=data, x='arrival_month', y='count', hue='booking_status', ax=ax[0], style='booking_status', markers=True, dashes=False)\n",
    "ax[0].set_title('Cantidad de reservas por mes - Año 2017')\n",
    "ax[0].set_xlabel('Meses')\n",
    "ax[0].set_xticks(ticks=data.arrival_month.unique(), labels=months[6:])\n",
    "ax[0].set_ylabel('Frecuencia')\n",
    "ax[0].get_legend().set_title('Estado de la reserva')\n",
    "\n",
    "#AÑO 2018\n",
    "data=bookings.loc[bookings.arrival_year==2018]\n",
    "sns.lineplot(data=data, x='arrival_month', y='count', hue='booking_status', ax=ax[1], style='booking_status', markers=True, dashes=False)\n",
    "ax[1].set_title('Cantidad de reservas por mes - Año 2018')\n",
    "ax[1].set_xlabel('Meses')\n",
    "ax[1].set_xticks(ticks=data.arrival_month.unique(), labels=months)\n",
    "ax[1].set_ylabel('Frecuencia')\n",
    "ax[1].get_legend().set_title('Estado de la reserva')\n",
    "\n",
    "plt.tight_layout()\n",
    "plt.show()\n",
    "mpl.style.use('default')"
   ]
  },
  {
   "cell_type": "markdown",
   "metadata": {},
   "source": [
    "#### Distribucion de la variable ***avg_price_room***"
   ]
  },
  {
   "cell_type": "code",
   "execution_count": null,
   "metadata": {},
   "outputs": [],
   "source": [
    "#DISTRIBUCION VARIABLE AVG_PRICE_ROOM\n",
    "#mpl.style.use('bmh')\n",
    "fig, ax = plt.subplots(nrows=1, ncols=2, figsize=(12,5))\n",
    "sns.histplot(x=df.avg_price_room, hue=df.booking_status, multiple='stack',bins=70, kde=True, ax=ax[0])\n",
    "ax[0].set_title('Distribucion del precio promedio de la habitacion')\n",
    "ax[0].set_xlabel('Precio (EUR)')\n",
    "ax[0].get_legend().set_title('Estado de la reserva')\n",
    "\n",
    "sns.boxplot(x=df.avg_price_room, hue=df.booking_status, ax=ax[1])\n",
    "ax[1].set_title('Distribucion del precio promedio de la habitacion')\n",
    "ax[1].set_xlabel('Precio (EUR)')\n",
    "ax[1].set_ylabel('Variable \"avg_price_per_room\"')\n",
    "ax[1].get_legend().set_title('Estado de la reserva')\n",
    "plt.tight_layout()\n",
    "plt.show()"
   ]
  },
  {
   "cell_type": "markdown",
   "metadata": {},
   "source": [
    "#### Distribucion de la variable ***lead_time***"
   ]
  },
  {
   "cell_type": "code",
   "execution_count": null,
   "metadata": {},
   "outputs": [],
   "source": [
    "#DISTRIBUCION VARIABLE AVG_PRICE_ROOM\n",
    "#mpl.style.use('bmh')\n",
    "fig, ax = plt.subplots(nrows=1, ncols=2, figsize=(12,5))\n",
    "sns.histplot(x=df.lead_time, hue=df.booking_status, multiple='stack', kde=True, ax=ax[0])\n",
    "ax[0].set_title('Distribucion de los dias entre la reserva y el arribo')\n",
    "ax[0].set_xlabel('Dias')\n",
    "ax[0].set_ylabel('Frecuencia')\n",
    "ax[0].get_legend().set_title('Estado de la reserva')\n",
    "\n",
    "sns.boxplot(x=df.lead_time, hue=df.booking_status, ax=ax[1])\n",
    "ax[1].set_title('Distribucion de los dias entre la reserva y el arribo')\n",
    "ax[1].set_xlabel('Dias')\n",
    "ax[1].set_ylabel('Variable \"lead_time\"')\n",
    "ax[1].get_legend().set_title('Estado de la reserva')\n",
    "plt.tight_layout()\n",
    "plt.show()"
   ]
  }
 ],
 "metadata": {
  "kernelspec": {
   "display_name": "Python 3",
   "language": "python",
   "name": "python3"
  },
  "language_info": {
   "codemirror_mode": {
    "name": "ipython",
    "version": 3
   },
   "file_extension": ".py",
   "mimetype": "text/x-python",
   "name": "python",
   "nbconvert_exporter": "python",
   "pygments_lexer": "ipython3",
   "version": "3.12.2"
  }
 },
 "nbformat": 4,
 "nbformat_minor": 2
}
