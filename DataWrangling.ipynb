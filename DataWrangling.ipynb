{
 "cells": [
  {
   "cell_type": "markdown",
   "metadata": {},
   "source": [
    "## Librerias y Funciones"
   ]
  },
  {
   "cell_type": "code",
   "execution_count": 161,
   "metadata": {},
   "outputs": [],
   "source": [
    "import pandas as pd\n",
    "import numpy as np\n",
    "import re\n",
    "import matplotlib as mpl\n",
    "from matplotlib import pyplot as plt\n",
    "import seaborn as sns\n",
    "#import plotly.express as px\n",
    "#import plotly.graph_objects as go\n",
    "from sklearn.preprocessing import LabelEncoder\n",
    "from Functions import DescrStat"
   ]
  },
  {
   "cell_type": "markdown",
   "metadata": {},
   "source": [
    "## Conociendo los datos"
   ]
  },
  {
   "cell_type": "markdown",
   "metadata": {},
   "source": [
    "### Exploracion del dataset"
   ]
  },
  {
   "cell_type": "code",
   "execution_count": 163,
   "metadata": {},
   "outputs": [
    {
     "data": {
      "text/html": [
       "<div>\n",
       "<style scoped>\n",
       "    .dataframe tbody tr th:only-of-type {\n",
       "        vertical-align: middle;\n",
       "    }\n",
       "\n",
       "    .dataframe tbody tr th {\n",
       "        vertical-align: top;\n",
       "    }\n",
       "\n",
       "    .dataframe thead th {\n",
       "        text-align: right;\n",
       "    }\n",
       "</style>\n",
       "<table border=\"1\" class=\"dataframe\">\n",
       "  <thead>\n",
       "    <tr style=\"text-align: right;\">\n",
       "      <th></th>\n",
       "      <th>Booking_ID</th>\n",
       "      <th>num_adults</th>\n",
       "      <th>num_children</th>\n",
       "      <th>weekend_nights</th>\n",
       "      <th>week_nights</th>\n",
       "      <th>meal_plan</th>\n",
       "      <th>car_parking</th>\n",
       "      <th>room_type</th>\n",
       "      <th>lead_time</th>\n",
       "      <th>arrival_year</th>\n",
       "      <th>arrival_month</th>\n",
       "      <th>arrival_date</th>\n",
       "      <th>mkt_segment</th>\n",
       "      <th>repeated_guest</th>\n",
       "      <th>num_prev_cancellations</th>\n",
       "      <th>num_prev_not_canceled</th>\n",
       "      <th>avg_price_room</th>\n",
       "      <th>num_sp_requests</th>\n",
       "      <th>booking_status</th>\n",
       "    </tr>\n",
       "  </thead>\n",
       "  <tbody>\n",
       "    <tr>\n",
       "      <th>0</th>\n",
       "      <td>INN00001</td>\n",
       "      <td>2</td>\n",
       "      <td>0</td>\n",
       "      <td>1</td>\n",
       "      <td>2</td>\n",
       "      <td>Meal Plan 1</td>\n",
       "      <td>0</td>\n",
       "      <td>Room_Type 1</td>\n",
       "      <td>224</td>\n",
       "      <td>2017</td>\n",
       "      <td>10</td>\n",
       "      <td>2</td>\n",
       "      <td>Offline</td>\n",
       "      <td>0</td>\n",
       "      <td>0</td>\n",
       "      <td>0</td>\n",
       "      <td>65.00</td>\n",
       "      <td>0</td>\n",
       "      <td>Not_Canceled</td>\n",
       "    </tr>\n",
       "    <tr>\n",
       "      <th>1</th>\n",
       "      <td>INN00002</td>\n",
       "      <td>2</td>\n",
       "      <td>0</td>\n",
       "      <td>2</td>\n",
       "      <td>3</td>\n",
       "      <td>Not Selected</td>\n",
       "      <td>0</td>\n",
       "      <td>Room_Type 1</td>\n",
       "      <td>5</td>\n",
       "      <td>2018</td>\n",
       "      <td>11</td>\n",
       "      <td>6</td>\n",
       "      <td>Online</td>\n",
       "      <td>0</td>\n",
       "      <td>0</td>\n",
       "      <td>0</td>\n",
       "      <td>106.68</td>\n",
       "      <td>1</td>\n",
       "      <td>Not_Canceled</td>\n",
       "    </tr>\n",
       "    <tr>\n",
       "      <th>2</th>\n",
       "      <td>INN00003</td>\n",
       "      <td>1</td>\n",
       "      <td>0</td>\n",
       "      <td>2</td>\n",
       "      <td>1</td>\n",
       "      <td>Meal Plan 1</td>\n",
       "      <td>0</td>\n",
       "      <td>Room_Type 1</td>\n",
       "      <td>1</td>\n",
       "      <td>2018</td>\n",
       "      <td>2</td>\n",
       "      <td>28</td>\n",
       "      <td>Online</td>\n",
       "      <td>0</td>\n",
       "      <td>0</td>\n",
       "      <td>0</td>\n",
       "      <td>60.00</td>\n",
       "      <td>0</td>\n",
       "      <td>Canceled</td>\n",
       "    </tr>\n",
       "  </tbody>\n",
       "</table>\n",
       "</div>"
      ],
      "text/plain": [
       "  Booking_ID  num_adults  num_children  weekend_nights  week_nights   \n",
       "0   INN00001           2             0               1            2  \\\n",
       "1   INN00002           2             0               2            3   \n",
       "2   INN00003           1             0               2            1   \n",
       "\n",
       "      meal_plan  car_parking    room_type  lead_time  arrival_year   \n",
       "0   Meal Plan 1            0  Room_Type 1        224          2017  \\\n",
       "1  Not Selected            0  Room_Type 1          5          2018   \n",
       "2   Meal Plan 1            0  Room_Type 1          1          2018   \n",
       "\n",
       "   arrival_month  arrival_date mkt_segment  repeated_guest   \n",
       "0             10             2     Offline               0  \\\n",
       "1             11             6      Online               0   \n",
       "2              2            28      Online               0   \n",
       "\n",
       "   num_prev_cancellations  num_prev_not_canceled  avg_price_room   \n",
       "0                       0                      0           65.00  \\\n",
       "1                       0                      0          106.68   \n",
       "2                       0                      0           60.00   \n",
       "\n",
       "   num_sp_requests booking_status  \n",
       "0                0   Not_Canceled  \n",
       "1                1   Not_Canceled  \n",
       "2                0       Canceled  "
      ]
     },
     "execution_count": 163,
     "metadata": {},
     "output_type": "execute_result"
    }
   ],
   "source": [
    "df = pd.read_csv('https://raw.githubusercontent.com/arielRas/DataSets/main/Hotel_Reservations.csv')\n",
    "df.head(3)"
   ]
  },
  {
   "cell_type": "code",
   "execution_count": 164,
   "metadata": {},
   "outputs": [
    {
     "name": "stdout",
     "output_type": "stream",
     "text": [
      "La cantidad de filas y columnas es: (36275, 19)\n",
      "\n",
      "\n",
      "<class 'pandas.core.frame.DataFrame'>\n",
      "RangeIndex: 36275 entries, 0 to 36274\n",
      "Data columns (total 19 columns):\n",
      " #   Column                  Non-Null Count  Dtype  \n",
      "---  ------                  --------------  -----  \n",
      " 0   Booking_ID              36275 non-null  object \n",
      " 1   num_adults              36275 non-null  int64  \n",
      " 2   num_children            36275 non-null  int64  \n",
      " 3   weekend_nights          36275 non-null  int64  \n",
      " 4   week_nights             36275 non-null  int64  \n",
      " 5   meal_plan               36275 non-null  object \n",
      " 6   car_parking             36275 non-null  int64  \n",
      " 7   room_type               36275 non-null  object \n",
      " 8   lead_time               36275 non-null  int64  \n",
      " 9   arrival_year            36275 non-null  int64  \n",
      " 10  arrival_month           36275 non-null  int64  \n",
      " 11  arrival_date            36275 non-null  int64  \n",
      " 12  mkt_segment             36275 non-null  object \n",
      " 13  repeated_guest          36275 non-null  int64  \n",
      " 14  num_prev_cancellations  36275 non-null  int64  \n",
      " 15  num_prev_not_canceled   36275 non-null  int64  \n",
      " 16  avg_price_room          36275 non-null  float64\n",
      " 17  num_sp_requests         36275 non-null  int64  \n",
      " 18  booking_status          36275 non-null  object \n",
      "dtypes: float64(1), int64(13), object(5)\n",
      "memory usage: 5.3+ MB\n"
     ]
    }
   ],
   "source": [
    "print(f'La cantidad de filas y columnas es: {df.shape}\\n\\n')\n",
    "df.info()"
   ]
  },
  {
   "cell_type": "code",
   "execution_count": 165,
   "metadata": {},
   "outputs": [
    {
     "data": {
      "text/html": [
       "<div>\n",
       "<style scoped>\n",
       "    .dataframe tbody tr th:only-of-type {\n",
       "        vertical-align: middle;\n",
       "    }\n",
       "\n",
       "    .dataframe tbody tr th {\n",
       "        vertical-align: top;\n",
       "    }\n",
       "\n",
       "    .dataframe thead th {\n",
       "        text-align: right;\n",
       "    }\n",
       "</style>\n",
       "<table border=\"1\" class=\"dataframe\">\n",
       "  <thead>\n",
       "    <tr style=\"text-align: right;\">\n",
       "      <th></th>\n",
       "      <th>num_adults</th>\n",
       "      <th>num_children</th>\n",
       "      <th>weekend_nights</th>\n",
       "      <th>week_nights</th>\n",
       "      <th>car_parking</th>\n",
       "      <th>lead_time</th>\n",
       "      <th>arrival_year</th>\n",
       "      <th>arrival_month</th>\n",
       "      <th>arrival_date</th>\n",
       "      <th>repeated_guest</th>\n",
       "      <th>num_prev_cancellations</th>\n",
       "      <th>num_prev_not_canceled</th>\n",
       "      <th>avg_price_room</th>\n",
       "      <th>num_sp_requests</th>\n",
       "    </tr>\n",
       "  </thead>\n",
       "  <tbody>\n",
       "    <tr>\n",
       "      <th>count</th>\n",
       "      <td>36275.000000</td>\n",
       "      <td>36275.000000</td>\n",
       "      <td>36275.000000</td>\n",
       "      <td>36275.000000</td>\n",
       "      <td>36275.000000</td>\n",
       "      <td>36275.000000</td>\n",
       "      <td>36275.000000</td>\n",
       "      <td>36275.000000</td>\n",
       "      <td>36275.000000</td>\n",
       "      <td>36275.000000</td>\n",
       "      <td>36275.000000</td>\n",
       "      <td>36275.000000</td>\n",
       "      <td>36275.000000</td>\n",
       "      <td>36275.000000</td>\n",
       "    </tr>\n",
       "    <tr>\n",
       "      <th>mean</th>\n",
       "      <td>1.844962</td>\n",
       "      <td>0.105279</td>\n",
       "      <td>0.810724</td>\n",
       "      <td>2.204300</td>\n",
       "      <td>0.030986</td>\n",
       "      <td>85.232557</td>\n",
       "      <td>2017.820427</td>\n",
       "      <td>7.423653</td>\n",
       "      <td>15.596995</td>\n",
       "      <td>0.025637</td>\n",
       "      <td>0.023349</td>\n",
       "      <td>0.153411</td>\n",
       "      <td>103.423539</td>\n",
       "      <td>0.619655</td>\n",
       "    </tr>\n",
       "    <tr>\n",
       "      <th>std</th>\n",
       "      <td>0.518715</td>\n",
       "      <td>0.402648</td>\n",
       "      <td>0.870644</td>\n",
       "      <td>1.410905</td>\n",
       "      <td>0.173281</td>\n",
       "      <td>85.930817</td>\n",
       "      <td>0.383836</td>\n",
       "      <td>3.069894</td>\n",
       "      <td>8.740447</td>\n",
       "      <td>0.158053</td>\n",
       "      <td>0.368331</td>\n",
       "      <td>1.754171</td>\n",
       "      <td>35.089424</td>\n",
       "      <td>0.786236</td>\n",
       "    </tr>\n",
       "    <tr>\n",
       "      <th>min</th>\n",
       "      <td>0.000000</td>\n",
       "      <td>0.000000</td>\n",
       "      <td>0.000000</td>\n",
       "      <td>0.000000</td>\n",
       "      <td>0.000000</td>\n",
       "      <td>0.000000</td>\n",
       "      <td>2017.000000</td>\n",
       "      <td>1.000000</td>\n",
       "      <td>1.000000</td>\n",
       "      <td>0.000000</td>\n",
       "      <td>0.000000</td>\n",
       "      <td>0.000000</td>\n",
       "      <td>0.000000</td>\n",
       "      <td>0.000000</td>\n",
       "    </tr>\n",
       "    <tr>\n",
       "      <th>25%</th>\n",
       "      <td>2.000000</td>\n",
       "      <td>0.000000</td>\n",
       "      <td>0.000000</td>\n",
       "      <td>1.000000</td>\n",
       "      <td>0.000000</td>\n",
       "      <td>17.000000</td>\n",
       "      <td>2018.000000</td>\n",
       "      <td>5.000000</td>\n",
       "      <td>8.000000</td>\n",
       "      <td>0.000000</td>\n",
       "      <td>0.000000</td>\n",
       "      <td>0.000000</td>\n",
       "      <td>80.300000</td>\n",
       "      <td>0.000000</td>\n",
       "    </tr>\n",
       "    <tr>\n",
       "      <th>50%</th>\n",
       "      <td>2.000000</td>\n",
       "      <td>0.000000</td>\n",
       "      <td>1.000000</td>\n",
       "      <td>2.000000</td>\n",
       "      <td>0.000000</td>\n",
       "      <td>57.000000</td>\n",
       "      <td>2018.000000</td>\n",
       "      <td>8.000000</td>\n",
       "      <td>16.000000</td>\n",
       "      <td>0.000000</td>\n",
       "      <td>0.000000</td>\n",
       "      <td>0.000000</td>\n",
       "      <td>99.450000</td>\n",
       "      <td>0.000000</td>\n",
       "    </tr>\n",
       "    <tr>\n",
       "      <th>75%</th>\n",
       "      <td>2.000000</td>\n",
       "      <td>0.000000</td>\n",
       "      <td>2.000000</td>\n",
       "      <td>3.000000</td>\n",
       "      <td>0.000000</td>\n",
       "      <td>126.000000</td>\n",
       "      <td>2018.000000</td>\n",
       "      <td>10.000000</td>\n",
       "      <td>23.000000</td>\n",
       "      <td>0.000000</td>\n",
       "      <td>0.000000</td>\n",
       "      <td>0.000000</td>\n",
       "      <td>120.000000</td>\n",
       "      <td>1.000000</td>\n",
       "    </tr>\n",
       "    <tr>\n",
       "      <th>max</th>\n",
       "      <td>4.000000</td>\n",
       "      <td>10.000000</td>\n",
       "      <td>7.000000</td>\n",
       "      <td>17.000000</td>\n",
       "      <td>1.000000</td>\n",
       "      <td>443.000000</td>\n",
       "      <td>2018.000000</td>\n",
       "      <td>12.000000</td>\n",
       "      <td>31.000000</td>\n",
       "      <td>1.000000</td>\n",
       "      <td>13.000000</td>\n",
       "      <td>58.000000</td>\n",
       "      <td>540.000000</td>\n",
       "      <td>5.000000</td>\n",
       "    </tr>\n",
       "  </tbody>\n",
       "</table>\n",
       "</div>"
      ],
      "text/plain": [
       "         num_adults  num_children  weekend_nights   week_nights   car_parking   \n",
       "count  36275.000000  36275.000000    36275.000000  36275.000000  36275.000000  \\\n",
       "mean       1.844962      0.105279        0.810724      2.204300      0.030986   \n",
       "std        0.518715      0.402648        0.870644      1.410905      0.173281   \n",
       "min        0.000000      0.000000        0.000000      0.000000      0.000000   \n",
       "25%        2.000000      0.000000        0.000000      1.000000      0.000000   \n",
       "50%        2.000000      0.000000        1.000000      2.000000      0.000000   \n",
       "75%        2.000000      0.000000        2.000000      3.000000      0.000000   \n",
       "max        4.000000     10.000000        7.000000     17.000000      1.000000   \n",
       "\n",
       "          lead_time  arrival_year  arrival_month  arrival_date   \n",
       "count  36275.000000  36275.000000   36275.000000  36275.000000  \\\n",
       "mean      85.232557   2017.820427       7.423653     15.596995   \n",
       "std       85.930817      0.383836       3.069894      8.740447   \n",
       "min        0.000000   2017.000000       1.000000      1.000000   \n",
       "25%       17.000000   2018.000000       5.000000      8.000000   \n",
       "50%       57.000000   2018.000000       8.000000     16.000000   \n",
       "75%      126.000000   2018.000000      10.000000     23.000000   \n",
       "max      443.000000   2018.000000      12.000000     31.000000   \n",
       "\n",
       "       repeated_guest  num_prev_cancellations  num_prev_not_canceled   \n",
       "count    36275.000000            36275.000000           36275.000000  \\\n",
       "mean         0.025637                0.023349               0.153411   \n",
       "std          0.158053                0.368331               1.754171   \n",
       "min          0.000000                0.000000               0.000000   \n",
       "25%          0.000000                0.000000               0.000000   \n",
       "50%          0.000000                0.000000               0.000000   \n",
       "75%          0.000000                0.000000               0.000000   \n",
       "max          1.000000               13.000000              58.000000   \n",
       "\n",
       "       avg_price_room  num_sp_requests  \n",
       "count    36275.000000     36275.000000  \n",
       "mean       103.423539         0.619655  \n",
       "std         35.089424         0.786236  \n",
       "min          0.000000         0.000000  \n",
       "25%         80.300000         0.000000  \n",
       "50%         99.450000         0.000000  \n",
       "75%        120.000000         1.000000  \n",
       "max        540.000000         5.000000  "
      ]
     },
     "execution_count": 165,
     "metadata": {},
     "output_type": "execute_result"
    }
   ],
   "source": [
    "df.describe()"
   ]
  },
  {
   "cell_type": "markdown",
   "metadata": {},
   "source": [
    "## Data Wrangling"
   ]
  },
  {
   "cell_type": "markdown",
   "metadata": {},
   "source": [
    "### Variable ***num_adults***"
   ]
  },
  {
   "cell_type": "markdown",
   "metadata": {},
   "source": [
    "Esta variable describe la cantidad de personas adultas que componen la reserva y que se alojaran en el hotel. Se puede divisar con el metodo ***describe()*** en la celda posterior que el valor minimo de la variable es cero y segun las reglas de negocio de este hotel, en las reservas debe haber al menos un adulto (>= 18 años) por reserva, los menores no pueden reservar por si solos. En el caso de que la reserva solo tenga menores, se interpreta el dato como erroneo."
   ]
  },
  {
   "cell_type": "code",
   "execution_count": 166,
   "metadata": {},
   "outputs": [
    {
     "data": {
      "text/plain": [
       "count    36275.000000\n",
       "mean         1.844962\n",
       "std          0.518715\n",
       "min          0.000000\n",
       "25%          2.000000\n",
       "50%          2.000000\n",
       "75%          2.000000\n",
       "max          4.000000\n",
       "Name: num_adults, dtype: float64"
      ]
     },
     "execution_count": 166,
     "metadata": {},
     "output_type": "execute_result"
    }
   ],
   "source": [
    "df.num_adults.describe()"
   ]
  },
  {
   "cell_type": "code",
   "execution_count": 167,
   "metadata": {},
   "outputs": [
    {
     "name": "stdout",
     "output_type": "stream",
     "text": [
      "La cantidad de reservas sin adultos es: 139\n"
     ]
    }
   ],
   "source": [
    "#CANTIDAD DE RESERVAS SIN ADULTOS\n",
    "print(f'La cantidad de reservas sin adultos es: {df.loc[df.num_adults < 1].shape[0]}')"
   ]
  },
  {
   "cell_type": "code",
   "execution_count": 168,
   "metadata": {},
   "outputs": [
    {
     "name": "stdout",
     "output_type": "stream",
     "text": [
      "La cantidad de reservas sin adultos despues de la modificacion es: 0\n",
      "La cantidad de filas y columnas del dataframe despues de la modificacion es: (36136, 19)\n"
     ]
    }
   ],
   "source": [
    "#Se eliminan las reservas y se verifica\n",
    "df = df.loc[df.num_adults >= 1]\n",
    "print(f'La cantidad de reservas sin adultos despues de la modificacion es: {df.loc[df.num_adults < 1].shape[0]}')\n",
    "\n",
    "#Se imprime informacion del dataframe despues de eliminar registros\n",
    "print(f'La cantidad de filas y columnas del dataframe despues de la modificacion es: {df.shape}')"
   ]
  },
  {
   "cell_type": "markdown",
   "metadata": {},
   "source": [
    "### Variable ***num_children***"
   ]
  },
  {
   "cell_type": "markdown",
   "metadata": {},
   "source": [
    "Esta variable describe la cantidad de niños menores que componen la reserva y que se alojaran en el hotel. Se puede divisar con el metodo ***describe()*** en la celda posterior, que la variable muestra el valor **cero** para el tercer cuartil, lo que da la pauta de que en el 75% de los datos en esta variable es cero y su valor maximo es 10, como el valor maximo se aleja bastante del 3er cuartil, veremos si este valor es un outlier."
   ]
  },
  {
   "cell_type": "code",
   "execution_count": 169,
   "metadata": {},
   "outputs": [
    {
     "data": {
      "text/plain": [
       "count    36136.000000\n",
       "mean         0.097880\n",
       "std          0.385097\n",
       "min          0.000000\n",
       "25%          0.000000\n",
       "50%          0.000000\n",
       "75%          0.000000\n",
       "max         10.000000\n",
       "Name: num_children, dtype: float64"
      ]
     },
     "execution_count": 169,
     "metadata": {},
     "output_type": "execute_result"
    }
   ],
   "source": [
    "df.num_children.describe()"
   ]
  },
  {
   "cell_type": "code",
   "execution_count": 170,
   "metadata": {},
   "outputs": [
    {
     "name": "stdout",
     "output_type": "stream",
     "text": [
      "La cantidad de reservas con 0 niños es: 33577\n",
      "La cantidad de reservas con 1 niños es: 1617\n",
      "La cantidad de reservas con 2 niños es: 925\n",
      "La cantidad de reservas con 3 niños es: 14\n",
      "La cantidad de reservas con 4 niños es: 0\n",
      "La cantidad de reservas con 5 niños es: 0\n",
      "La cantidad de reservas con 6 niños es: 0\n",
      "La cantidad de reservas con 7 niños es: 0\n",
      "La cantidad de reservas con 8 niños es: 0\n",
      "La cantidad de reservas con 9 niños es: 2\n",
      "La cantidad de reservas con 10 niños es: 1\n"
     ]
    }
   ],
   "source": [
    "for item in range(0,11):\n",
    "    print(f'La cantidad de reservas con {item} niños es: {df.loc[df.num_children == item].shape[0]}')"
   ]
  },
  {
   "cell_type": "markdown",
   "metadata": {},
   "source": [
    "Como se puede observar hay valores atipicos que se alejan fuertemente de los datos, debido a la poca significancia cuantitativa de estos datos atipicos, se decide eliminar las observaciones que los contienen."
   ]
  },
  {
   "cell_type": "code",
   "execution_count": 171,
   "metadata": {},
   "outputs": [
    {
     "name": "stdout",
     "output_type": "stream",
     "text": [
      "Los datos a eliminar representan el 0.008% de los datos\n"
     ]
    }
   ],
   "source": [
    "#SIGNIFICANCIA PORCENTUAL DE LOS DATOS A ELIMINAR\n",
    "perc = (df.loc[df.num_children >3].shape[0]/df.shape[0])*100\n",
    "print(f'Los datos a eliminar representan el {perc:.3f}% de los datos')\n",
    "\n",
    "#SE ELIMINAN DATOS AOUTLIERS\n",
    "df = df.loc[df.num_children <= 3]"
   ]
  },
  {
   "cell_type": "code",
   "execution_count": 172,
   "metadata": {},
   "outputs": [
    {
     "data": {
      "text/plain": [
       "count    36133.000000\n",
       "mean         0.097113\n",
       "std          0.375780\n",
       "min          0.000000\n",
       "25%          0.000000\n",
       "50%          0.000000\n",
       "75%          0.000000\n",
       "max          3.000000\n",
       "Name: num_children, dtype: float64"
      ]
     },
     "execution_count": 172,
     "metadata": {},
     "output_type": "execute_result"
    }
   ],
   "source": [
    "df.num_children.describe()"
   ]
  },
  {
   "cell_type": "markdown",
   "metadata": {},
   "source": [
    "### Variables ***weekend_nights*** y ***week_nights***"
   ]
  },
  {
   "cell_type": "markdown",
   "metadata": {},
   "source": [
    "Estas variables describen la cantidad de dias de fin de semana y dias de semana respectivamente por la cual se reserva la habitacion del hotel. A partir de esto se generará una nueva variable que describa la cantidad de dias totales por la cual se reseva."
   ]
  },
  {
   "cell_type": "code",
   "execution_count": 173,
   "metadata": {},
   "outputs": [
    {
     "data": {
      "text/plain": [
       "count    36133.000000\n",
       "mean         3.013782\n",
       "std          1.785856\n",
       "min          0.000000\n",
       "25%          2.000000\n",
       "50%          3.000000\n",
       "75%          4.000000\n",
       "max         24.000000\n",
       "Name: total_nights, dtype: float64"
      ]
     },
     "execution_count": 173,
     "metadata": {},
     "output_type": "execute_result"
    }
   ],
   "source": [
    "#SE CREA DATAFRAME ADICIONAL PARA CREAR NUEVA VARIABLE\n",
    "booking_nights = df[['weekend_nights','week_nights']].copy()\n",
    "\n",
    "#SE CREA NUEVA VARIABLE EN BASE A LAS EXISTENTES\n",
    "booking_nights.loc[:,'total_nights'] = booking_nights.apply(lambda x: x.weekend_nights + x.week_nights, axis=1)\n",
    "\n",
    "#INFORMACION DE LA NUEVA VARIABLE\n",
    "booking_nights.total_nights.describe()"
   ]
  },
  {
   "cell_type": "markdown",
   "metadata": {},
   "source": [
    "En la informacion que se muestra de la nueva variable se puede observar que el valor minimo en ella es **cero**, lo cual no seria valido. Por este motivo es que se realizara un analisis para aplicar alguna tecnica de imputacion para los valores atipicos mencionados."
   ]
  },
  {
   "cell_type": "code",
   "execution_count": 174,
   "metadata": {},
   "outputs": [
    {
     "data": {
      "text/plain": [
       "median       3.0000\n",
       "mean         3.0138\n",
       "mode         3.0000\n",
       "std          1.7859\n",
       "variance     3.1893\n",
       "skew         2.2354\n",
       "kurtosys    12.2587\n",
       "dtype: float64"
      ]
     },
     "execution_count": 174,
     "metadata": {},
     "output_type": "execute_result"
    }
   ],
   "source": [
    "#INFORMACION DE LA VARIABLE\n",
    "DescrStat.get_var_data(booking_nights.total_nights)"
   ]
  },
  {
   "cell_type": "code",
   "execution_count": 175,
   "metadata": {},
   "outputs": [
    {
     "data": {
      "text/plain": [
       "median       3.0000\n",
       "mean         3.0203\n",
       "mode         3.0000\n",
       "std          1.7803\n",
       "variance     3.1696\n",
       "skew         2.2558\n",
       "kurtosys    12.3979\n",
       "dtype: float64"
      ]
     },
     "execution_count": 175,
     "metadata": {},
     "output_type": "execute_result"
    }
   ],
   "source": [
    "#IMPUTACION DE DATOS ATIPICOS\n",
    "booking_nights.loc[booking_nights.total_nights == 0, 'total_nights'] = booking_nights.total_nights.median()\n",
    "\n",
    "#INFORMACION DE LA VARIABLE DESPUES DE IMPUTAR\n",
    "DescrStat.get_var_data(booking_nights.total_nights)"
   ]
  },
  {
   "cell_type": "markdown",
   "metadata": {},
   "source": [
    "Como se observa en los coeficientes de dispersion, la imputacion por la **mediana** no ha impactado de manera violenta en la distribucion de la variable, es por ello que se conserva este cambio. Ahora solo queda por unir esta nueva variable al **Dataframe** principal."
   ]
  },
  {
   "cell_type": "code",
   "execution_count": 176,
   "metadata": {},
   "outputs": [
    {
     "data": {
      "text/plain": [
       "count    36133.000000\n",
       "mean         3.020258\n",
       "std          1.780346\n",
       "min          1.000000\n",
       "25%          2.000000\n",
       "50%          3.000000\n",
       "75%          4.000000\n",
       "max         24.000000\n",
       "Name: total_nights, dtype: float64"
      ]
     },
     "execution_count": 176,
     "metadata": {},
     "output_type": "execute_result"
    }
   ],
   "source": [
    "#SE INSERTA LA NUEVA VARIABLE AL DATAFRAME PRINCIPAL\n",
    "position = df.columns.get_loc('week_nights')+1\n",
    "df.insert(column='total_nights', loc=position, value=booking_nights.total_nights)\n",
    "\n",
    "#SE LIBERAN RECURSOS\n",
    "del booking_nights\n",
    "\n",
    "#INFORMACION\n",
    "df.total_nights.describe()"
   ]
  },
  {
   "cell_type": "markdown",
   "metadata": {},
   "source": [
    "### Variables ***arrival_year***, ***arrival_month*** y ***arrival_date***"
   ]
  },
  {
   "cell_type": "markdown",
   "metadata": {},
   "source": [
    "Estas variables describen el año, mes y dia de arribo respectivamente. Lo que se hara en esta seccion es crear una variable especifica para describir la fecha y con esta informacion obtener la estacion del año para la cual se realizo la reserva"
   ]
  },
  {
   "cell_type": "code",
   "execution_count": 177,
   "metadata": {},
   "outputs": [
    {
     "data": {
      "text/html": [
       "<div>\n",
       "<style scoped>\n",
       "    .dataframe tbody tr th:only-of-type {\n",
       "        vertical-align: middle;\n",
       "    }\n",
       "\n",
       "    .dataframe tbody tr th {\n",
       "        vertical-align: top;\n",
       "    }\n",
       "\n",
       "    .dataframe thead th {\n",
       "        text-align: right;\n",
       "    }\n",
       "</style>\n",
       "<table border=\"1\" class=\"dataframe\">\n",
       "  <thead>\n",
       "    <tr style=\"text-align: right;\">\n",
       "      <th></th>\n",
       "      <th>y</th>\n",
       "      <th>m</th>\n",
       "      <th>d</th>\n",
       "      <th>arrival_date</th>\n",
       "    </tr>\n",
       "  </thead>\n",
       "  <tbody>\n",
       "    <tr>\n",
       "      <th>0</th>\n",
       "      <td>2017</td>\n",
       "      <td>10</td>\n",
       "      <td>2</td>\n",
       "      <td>2017-10-2</td>\n",
       "    </tr>\n",
       "    <tr>\n",
       "      <th>1</th>\n",
       "      <td>2018</td>\n",
       "      <td>11</td>\n",
       "      <td>6</td>\n",
       "      <td>2018-11-6</td>\n",
       "    </tr>\n",
       "    <tr>\n",
       "      <th>2</th>\n",
       "      <td>2018</td>\n",
       "      <td>2</td>\n",
       "      <td>28</td>\n",
       "      <td>2018-2-28</td>\n",
       "    </tr>\n",
       "  </tbody>\n",
       "</table>\n",
       "</div>"
      ],
      "text/plain": [
       "      y   m   d arrival_date\n",
       "0  2017  10   2    2017-10-2\n",
       "1  2018  11   6    2018-11-6\n",
       "2  2018   2  28    2018-2-28"
      ]
     },
     "execution_count": 177,
     "metadata": {},
     "output_type": "execute_result"
    }
   ],
   "source": [
    "#PRiMERO SE REALIZARA UN CAMBIO DE NOMBRE A FINES DE EVITAR AMBIGUEDAD\n",
    "df.rename(columns={'arrival_date':'arrival_day'}, inplace=True)\n",
    "\n",
    "#SE CREA DATAFRAME COMPLEMETARIO PARA RELIZAR LOS CAMBIOS\n",
    "dates = df[['arrival_year','arrival_month', 'arrival_day']].copy()\n",
    "dates.columns = ['y','m','d']\n",
    "\n",
    "#SE GENERA LA NUEVA VARIABLE\n",
    "dates.loc[:,'arrival_date'] = dates.apply(lambda x: str(x.y) + '-' + str(x.m) + '-' + str(x.d), axis=1)\n",
    "dates.head(3)"
   ]
  },
  {
   "cell_type": "markdown",
   "metadata": {},
   "source": [
    "Si bien ya se ha obtenido la columna de fecha, esta tiene un tipo de dato ***str***, lo cual no es nuestro objetivo. Por ello se transformaran estos datos a tipo ***Datetime*** lo que va a generar algunos datos nulos que manejaremos posteriormente"
   ]
  },
  {
   "cell_type": "code",
   "execution_count": 178,
   "metadata": {},
   "outputs": [
    {
     "name": "stdout",
     "output_type": "stream",
     "text": [
      "<class 'pandas.core.series.Series'>\n",
      "Index: 36133 entries, 0 to 36274\n",
      "Series name: arrival_date\n",
      "Non-Null Count  Dtype         \n",
      "--------------  -----         \n",
      "36096 non-null  datetime64[ns]\n",
      "dtypes: datetime64[ns](1)\n",
      "memory usage: 564.6 KB\n"
     ]
    }
   ],
   "source": [
    "#SE CONVIERTE LA VARIABLE ARRIVAL_DATE EN DATETIME\n",
    "dates.arrival_date = pd.to_datetime(dates.arrival_date, format=\"%Y-%m-%d\",yearfirst=True, errors='coerce')\n",
    "dates.arrival_date.info()"
   ]
  },
  {
   "cell_type": "code",
   "execution_count": 179,
   "metadata": {},
   "outputs": [
    {
     "data": {
      "text/html": [
       "<div>\n",
       "<style scoped>\n",
       "    .dataframe tbody tr th:only-of-type {\n",
       "        vertical-align: middle;\n",
       "    }\n",
       "\n",
       "    .dataframe tbody tr th {\n",
       "        vertical-align: top;\n",
       "    }\n",
       "\n",
       "    .dataframe thead th {\n",
       "        text-align: right;\n",
       "    }\n",
       "</style>\n",
       "<table border=\"1\" class=\"dataframe\">\n",
       "  <thead>\n",
       "    <tr style=\"text-align: right;\">\n",
       "      <th></th>\n",
       "      <th>y</th>\n",
       "      <th>m</th>\n",
       "      <th>d</th>\n",
       "      <th>arrival_date</th>\n",
       "    </tr>\n",
       "  </thead>\n",
       "  <tbody>\n",
       "    <tr>\n",
       "      <th>2626</th>\n",
       "      <td>2018</td>\n",
       "      <td>2</td>\n",
       "      <td>29</td>\n",
       "      <td>NaT</td>\n",
       "    </tr>\n",
       "    <tr>\n",
       "      <th>3677</th>\n",
       "      <td>2018</td>\n",
       "      <td>2</td>\n",
       "      <td>29</td>\n",
       "      <td>NaT</td>\n",
       "    </tr>\n",
       "    <tr>\n",
       "      <th>5600</th>\n",
       "      <td>2018</td>\n",
       "      <td>2</td>\n",
       "      <td>29</td>\n",
       "      <td>NaT</td>\n",
       "    </tr>\n",
       "  </tbody>\n",
       "</table>\n",
       "</div>"
      ],
      "text/plain": [
       "         y  m   d arrival_date\n",
       "2626  2018  2  29          NaT\n",
       "3677  2018  2  29          NaT\n",
       "5600  2018  2  29          NaT"
      ]
     },
     "execution_count": 179,
     "metadata": {},
     "output_type": "execute_result"
    }
   ],
   "source": [
    "#OBSERVACION DE DATOS NULOS\n",
    "dates.loc[dates.arrival_date.isna()].head(3)"
   ]
  },
  {
   "cell_type": "markdown",
   "metadata": {},
   "source": [
    "Como se puede observar los datos ***NaN*** que se generaron al convertir de ***string*** a ***datetime*** fueron producidos por la fecha ***2018-02-29*** una fecha correspondiente a un año biciesto, pero justamente el año 2018 no lo fue. Para este caso en particular reemplazaremos las fechas conflictivas con la fecha del dia anterior."
   ]
  },
  {
   "cell_type": "code",
   "execution_count": 180,
   "metadata": {},
   "outputs": [
    {
     "name": "stdout",
     "output_type": "stream",
     "text": [
      "<class 'pandas.core.series.Series'>\n",
      "Index: 36133 entries, 0 to 36274\n",
      "Series name: arrival_date\n",
      "Non-Null Count  Dtype         \n",
      "--------------  -----         \n",
      "36133 non-null  datetime64[ns]\n",
      "dtypes: datetime64[ns](1)\n",
      "memory usage: 1.6 MB\n"
     ]
    }
   ],
   "source": [
    "#CORRECCION DEL ERROR\n",
    "condition = (dates.y == 2018) & (dates.m == 2) & (dates.d == 29)\n",
    "dates.loc[condition, 'd'] = 28\n",
    "\n",
    "#CONVERSION DE TIPO\n",
    "dates.loc[dates.arrival_date.isna(), 'arrival_date'] = dates.apply(lambda x: pd.to_datetime(str(x.y) + '-' + str(x.m) + '-' + str(x.d), format=\"%Y-%m-%d\",yearfirst=True), axis=1)\n",
    "\n",
    "#INFORMACION\n",
    "dates.arrival_date.info()"
   ]
  },
  {
   "cell_type": "markdown",
   "metadata": {},
   "source": [
    "#### Variable ***arrival season***"
   ]
  },
  {
   "cell_type": "markdown",
   "metadata": {},
   "source": [
    "Como se mencion anteriormente, se dara lugar a la creacion de esta variable, que refiere la estacion del año para la cual se realiza la reserva."
   ]
  },
  {
   "cell_type": "code",
   "execution_count": 181,
   "metadata": {},
   "outputs": [
    {
     "data": {
      "text/html": [
       "<div>\n",
       "<style scoped>\n",
       "    .dataframe tbody tr th:only-of-type {\n",
       "        vertical-align: middle;\n",
       "    }\n",
       "\n",
       "    .dataframe tbody tr th {\n",
       "        vertical-align: top;\n",
       "    }\n",
       "\n",
       "    .dataframe thead th {\n",
       "        text-align: right;\n",
       "    }\n",
       "</style>\n",
       "<table border=\"1\" class=\"dataframe\">\n",
       "  <thead>\n",
       "    <tr style=\"text-align: right;\">\n",
       "      <th></th>\n",
       "      <th>y</th>\n",
       "      <th>m</th>\n",
       "      <th>d</th>\n",
       "      <th>arrival_date</th>\n",
       "      <th>arrival_season</th>\n",
       "    </tr>\n",
       "  </thead>\n",
       "  <tbody>\n",
       "    <tr>\n",
       "      <th>0</th>\n",
       "      <td>2017</td>\n",
       "      <td>10</td>\n",
       "      <td>2</td>\n",
       "      <td>2017-10-02</td>\n",
       "      <td>winter</td>\n",
       "    </tr>\n",
       "    <tr>\n",
       "      <th>1</th>\n",
       "      <td>2018</td>\n",
       "      <td>11</td>\n",
       "      <td>6</td>\n",
       "      <td>2018-11-06</td>\n",
       "      <td>spring</td>\n",
       "    </tr>\n",
       "    <tr>\n",
       "      <th>2</th>\n",
       "      <td>2018</td>\n",
       "      <td>2</td>\n",
       "      <td>28</td>\n",
       "      <td>2018-02-28</td>\n",
       "      <td>spring</td>\n",
       "    </tr>\n",
       "  </tbody>\n",
       "</table>\n",
       "</div>"
      ],
      "text/plain": [
       "      y   m   d arrival_date arrival_season\n",
       "0  2017  10   2   2017-10-02         winter\n",
       "1  2018  11   6   2018-11-06         spring\n",
       "2  2018   2  28   2018-02-28         spring"
      ]
     },
     "execution_count": 181,
     "metadata": {},
     "output_type": "execute_result"
    }
   ],
   "source": [
    "#CREANDO ESTACIONES DEL AÑO (EUROPA)\n",
    "\n",
    "#SE CREAN VARIABLES CONDICIONALES\n",
    "is_summer = ((dates.m == 6) & (dates.d >= 21) | (dates.m == 7) | (dates.d == 8) | (dates.m == 9) & (dates.d <= 22))\n",
    "is_autumn = ((dates.m == 9) & (dates.d >= 23) | (dates.m == 10) | (dates.d == 11) | (dates.m == 12) & (dates.d <= 20))\n",
    "is_winter = ((dates.m== 12) & (dates.d >= 21) | (dates.m == 1) | (dates.d == 2) | (dates.m == 3) & (dates.d <= 20))\n",
    "\n",
    "#SE CREA NUEVA VARIABLE\n",
    "dates[\"arrival_season\"] = \"spring\"\n",
    "dates.loc[is_summer, \"arrival_season\"] = \"summer\"\n",
    "dates.loc[is_autumn, \"arrival_season\"] = \"autumn\"\n",
    "dates.loc[is_winter, \"arrival_season\"] = \"winter\"\n",
    "\n",
    "dates.head(3)"
   ]
  },
  {
   "cell_type": "markdown",
   "metadata": {},
   "source": [
    "Con el objetivo logrado parcialmente, ahora es momento de deshacerse de las columnas que no nos sirven en del dataframe principal y agregar las nuevas columnas que se consiguieron"
   ]
  },
  {
   "cell_type": "code",
   "execution_count": 182,
   "metadata": {},
   "outputs": [
    {
     "data": {
      "text/html": [
       "<div>\n",
       "<style scoped>\n",
       "    .dataframe tbody tr th:only-of-type {\n",
       "        vertical-align: middle;\n",
       "    }\n",
       "\n",
       "    .dataframe tbody tr th {\n",
       "        vertical-align: top;\n",
       "    }\n",
       "\n",
       "    .dataframe thead th {\n",
       "        text-align: right;\n",
       "    }\n",
       "</style>\n",
       "<table border=\"1\" class=\"dataframe\">\n",
       "  <thead>\n",
       "    <tr style=\"text-align: right;\">\n",
       "      <th></th>\n",
       "      <th>Booking_ID</th>\n",
       "      <th>num_adults</th>\n",
       "      <th>num_children</th>\n",
       "      <th>weekend_nights</th>\n",
       "      <th>week_nights</th>\n",
       "      <th>total_nights</th>\n",
       "      <th>meal_plan</th>\n",
       "      <th>car_parking</th>\n",
       "      <th>room_type</th>\n",
       "      <th>lead_time</th>\n",
       "      <th>...</th>\n",
       "      <th>arrival_month</th>\n",
       "      <th>arrival_day</th>\n",
       "      <th>arrival_season</th>\n",
       "      <th>mkt_segment</th>\n",
       "      <th>repeated_guest</th>\n",
       "      <th>num_prev_cancellations</th>\n",
       "      <th>num_prev_not_canceled</th>\n",
       "      <th>avg_price_room</th>\n",
       "      <th>num_sp_requests</th>\n",
       "      <th>booking_status</th>\n",
       "    </tr>\n",
       "  </thead>\n",
       "  <tbody>\n",
       "    <tr>\n",
       "      <th>0</th>\n",
       "      <td>INN00001</td>\n",
       "      <td>2</td>\n",
       "      <td>0</td>\n",
       "      <td>1</td>\n",
       "      <td>2</td>\n",
       "      <td>3</td>\n",
       "      <td>Meal Plan 1</td>\n",
       "      <td>0</td>\n",
       "      <td>Room_Type 1</td>\n",
       "      <td>224</td>\n",
       "      <td>...</td>\n",
       "      <td>10</td>\n",
       "      <td>2</td>\n",
       "      <td>winter</td>\n",
       "      <td>Offline</td>\n",
       "      <td>0</td>\n",
       "      <td>0</td>\n",
       "      <td>0</td>\n",
       "      <td>65.00</td>\n",
       "      <td>0</td>\n",
       "      <td>Not_Canceled</td>\n",
       "    </tr>\n",
       "    <tr>\n",
       "      <th>1</th>\n",
       "      <td>INN00002</td>\n",
       "      <td>2</td>\n",
       "      <td>0</td>\n",
       "      <td>2</td>\n",
       "      <td>3</td>\n",
       "      <td>5</td>\n",
       "      <td>Not Selected</td>\n",
       "      <td>0</td>\n",
       "      <td>Room_Type 1</td>\n",
       "      <td>5</td>\n",
       "      <td>...</td>\n",
       "      <td>11</td>\n",
       "      <td>6</td>\n",
       "      <td>spring</td>\n",
       "      <td>Online</td>\n",
       "      <td>0</td>\n",
       "      <td>0</td>\n",
       "      <td>0</td>\n",
       "      <td>106.68</td>\n",
       "      <td>1</td>\n",
       "      <td>Not_Canceled</td>\n",
       "    </tr>\n",
       "    <tr>\n",
       "      <th>2</th>\n",
       "      <td>INN00003</td>\n",
       "      <td>1</td>\n",
       "      <td>0</td>\n",
       "      <td>2</td>\n",
       "      <td>1</td>\n",
       "      <td>3</td>\n",
       "      <td>Meal Plan 1</td>\n",
       "      <td>0</td>\n",
       "      <td>Room_Type 1</td>\n",
       "      <td>1</td>\n",
       "      <td>...</td>\n",
       "      <td>2</td>\n",
       "      <td>28</td>\n",
       "      <td>spring</td>\n",
       "      <td>Online</td>\n",
       "      <td>0</td>\n",
       "      <td>0</td>\n",
       "      <td>0</td>\n",
       "      <td>60.00</td>\n",
       "      <td>0</td>\n",
       "      <td>Canceled</td>\n",
       "    </tr>\n",
       "  </tbody>\n",
       "</table>\n",
       "<p>3 rows × 21 columns</p>\n",
       "</div>"
      ],
      "text/plain": [
       "  Booking_ID  num_adults  num_children  weekend_nights  week_nights   \n",
       "0   INN00001           2             0               1            2  \\\n",
       "1   INN00002           2             0               2            3   \n",
       "2   INN00003           1             0               2            1   \n",
       "\n",
       "   total_nights     meal_plan  car_parking    room_type  lead_time  ...   \n",
       "0             3   Meal Plan 1            0  Room_Type 1        224  ...  \\\n",
       "1             5  Not Selected            0  Room_Type 1          5  ...   \n",
       "2             3   Meal Plan 1            0  Room_Type 1          1  ...   \n",
       "\n",
       "   arrival_month  arrival_day  arrival_season mkt_segment repeated_guest   \n",
       "0             10            2          winter     Offline              0  \\\n",
       "1             11            6          spring      Online              0   \n",
       "2              2           28          spring      Online              0   \n",
       "\n",
       "   num_prev_cancellations  num_prev_not_canceled  avg_price_room   \n",
       "0                       0                      0           65.00  \\\n",
       "1                       0                      0          106.68   \n",
       "2                       0                      0           60.00   \n",
       "\n",
       "   num_sp_requests  booking_status  \n",
       "0                0    Not_Canceled  \n",
       "1                1    Not_Canceled  \n",
       "2                0        Canceled  \n",
       "\n",
       "[3 rows x 21 columns]"
      ]
     },
     "execution_count": 182,
     "metadata": {},
     "output_type": "execute_result"
    }
   ],
   "source": [
    "#SE IGUALAN LAS COLUMNAS DEL DATAFRAME PRINCIPAL CON EL COMPLEMENTARIO LIBRE DE ERRORES\n",
    "df.arrival_month = dates.m\n",
    "df.arrival_day = dates.d\n",
    "\n",
    "#SE INSERTA LA VARIABLE NUEVA EN EL DATRAFRAME PRINCIPAL\n",
    "position = df.columns.get_loc('arrival_day')+1\n",
    "df.insert(column='arrival_season', loc=position, value=dates.arrival_season)\n",
    "\n",
    "#SE LIBERAN RECURSOS\n",
    "del dates\n",
    "\n",
    "df.head(3)"
   ]
  },
  {
   "cell_type": "markdown",
   "metadata": {},
   "source": [
    "### Variable ***booking_status***"
   ]
  },
  {
   "cell_type": "markdown",
   "metadata": {},
   "source": [
    "En esta seccion se modificará el nombre de la leyenda para los valores unicos de la variable de interes a fines descriptivos."
   ]
  },
  {
   "cell_type": "code",
   "execution_count": 183,
   "metadata": {},
   "outputs": [],
   "source": [
    "df.booking_status = df.booking_status.str.replace('Not_Canceled', 'No cancelada')\n",
    "df.booking_status = df.booking_status.str.replace('Canceled', 'Cancelada')"
   ]
  },
  {
   "cell_type": "markdown",
   "metadata": {},
   "source": [
    "### Variables cualitativas"
   ]
  },
  {
   "cell_type": "markdown",
   "metadata": {},
   "source": [
    "En esta seccion se le da tratamiento a quellas variables que no son numericas. Para ello se utilizara la herramienta ***LabelEncoder*** destinado a las variables nominales, mientras que para las ordinales se lo hara respetando el orden inherente a su naturaleza. Aqui"
   ]
  },
  {
   "cell_type": "code",
   "execution_count": 184,
   "metadata": {},
   "outputs": [
    {
     "name": "stdout",
     "output_type": "stream",
     "text": [
      "['meal_plan', 'room_type', 'arrival_season', 'mkt_segment', 'booking_status']\n"
     ]
    }
   ],
   "source": [
    "#LISTA CON NOMBRE DE VARIABLES CUALITATIVAS\n",
    "qualitative_var = [column for column in df.columns if df[column].dtype == 'object']\n",
    "qualitative_var.remove('Booking_ID')\n",
    "print(qualitative_var)"
   ]
  },
  {
   "cell_type": "markdown",
   "metadata": {},
   "source": [
    "Para explorar el contenido de cada variable cualitativa se imprime us valores unicos para cada una de ellas"
   ]
  },
  {
   "cell_type": "code",
   "execution_count": 185,
   "metadata": {},
   "outputs": [
    {
     "name": "stdout",
     "output_type": "stream",
     "text": [
      "meal_plan:\n",
      "\tMeal Plan 1\n",
      "\tNot Selected\n",
      "\tMeal Plan 2\n",
      "\tMeal Plan 3\n",
      "room_type:\n",
      "\tRoom_Type 1\n",
      "\tRoom_Type 4\n",
      "\tRoom_Type 6\n",
      "\tRoom_Type 5\n",
      "\tRoom_Type 2\n",
      "\tRoom_Type 7\n",
      "\tRoom_Type 3\n",
      "arrival_season:\n",
      "\twinter\n",
      "\tspring\n",
      "\tautumn\n",
      "\tsummer\n",
      "mkt_segment:\n",
      "\tOffline\n",
      "\tOnline\n",
      "\tCorporate\n",
      "\tAviation\n",
      "\tComplementary\n",
      "booking_status:\n",
      "\tNo cancelada\n",
      "\tCancelada\n"
     ]
    }
   ],
   "source": [
    "#VALORES UNICOS PARA CADA VARIABLE\n",
    "for var in qualitative_var:\n",
    "    print(f'{var}:')\n",
    "    for item in df[var].unique():\n",
    "        print(f'\\t{item}')"
   ]
  },
  {
   "cell_type": "markdown",
   "metadata": {},
   "source": [
    "Conociendo mejor el contenido de las variables cualitativas, se decide crear las siguientes variables numericas:\n",
    "- meal_plan_id\n",
    "- room_type_id\n",
    "- booking_status_id\n",
    "- mkt_segment_id\n",
    "- arrival_season_id\n",
    "\n",
    "Cada una corresponde a una variable cualitativa pero conteniendo un codigo numerico correspondiente a cada valor unico de la variable. Para aquellas que son de naturaleza ordinal se asignan los valores cuantitativos de manera manual a fin de conservar el orden natural de la variable. Mientras que para las nominales se utilza ***LabelEncoder***."
   ]
  },
  {
   "cell_type": "code",
   "execution_count": null,
   "metadata": {},
   "outputs": [],
   "source": [
    "#FUNCION DE TRANSFORMACION PARA VARIABLES CUALITATIVAS ORDINALES\n",
    "def get_ordinal_var(category:str):\n",
    "    if re.search(r'^\\D+$', category): return '0'\n",
    "    if re.search(r'.*1$', category): return '1'\n",
    "    if re.search(r'.*2$', category): return '2'\n",
    "    if re.search(r'.*3$', category): return '3'\n",
    "    if re.search(r'.*4$', category): return '4'\n",
    "    if re.search(r'.*5$', category): return '5'\n",
    "    if re.search(r'.*6$', category): return '6'\n",
    "    if re.search(r'.*7$', category): return '7'"
   ]
  },
  {
   "cell_type": "code",
   "execution_count": 186,
   "metadata": {},
   "outputs": [
    {
     "data": {
      "text/html": [
       "<div>\n",
       "<style scoped>\n",
       "    .dataframe tbody tr th:only-of-type {\n",
       "        vertical-align: middle;\n",
       "    }\n",
       "\n",
       "    .dataframe tbody tr th {\n",
       "        vertical-align: top;\n",
       "    }\n",
       "\n",
       "    .dataframe thead th {\n",
       "        text-align: right;\n",
       "    }\n",
       "</style>\n",
       "<table border=\"1\" class=\"dataframe\">\n",
       "  <thead>\n",
       "    <tr style=\"text-align: right;\">\n",
       "      <th></th>\n",
       "      <th>meal_plan_cod</th>\n",
       "      <th>room_type_cod</th>\n",
       "      <th>mkt_segment_cod</th>\n",
       "      <th>arrival_season_cod</th>\n",
       "      <th>booking_status_cod</th>\n",
       "    </tr>\n",
       "  </thead>\n",
       "  <tbody>\n",
       "    <tr>\n",
       "      <th>0</th>\n",
       "      <td>1</td>\n",
       "      <td>1</td>\n",
       "      <td>3</td>\n",
       "      <td>3</td>\n",
       "      <td>0</td>\n",
       "    </tr>\n",
       "    <tr>\n",
       "      <th>1</th>\n",
       "      <td>0</td>\n",
       "      <td>1</td>\n",
       "      <td>4</td>\n",
       "      <td>1</td>\n",
       "      <td>0</td>\n",
       "    </tr>\n",
       "    <tr>\n",
       "      <th>2</th>\n",
       "      <td>1</td>\n",
       "      <td>1</td>\n",
       "      <td>4</td>\n",
       "      <td>1</td>\n",
       "      <td>1</td>\n",
       "    </tr>\n",
       "    <tr>\n",
       "      <th>3</th>\n",
       "      <td>1</td>\n",
       "      <td>1</td>\n",
       "      <td>4</td>\n",
       "      <td>1</td>\n",
       "      <td>1</td>\n",
       "    </tr>\n",
       "    <tr>\n",
       "      <th>4</th>\n",
       "      <td>0</td>\n",
       "      <td>1</td>\n",
       "      <td>4</td>\n",
       "      <td>0</td>\n",
       "      <td>1</td>\n",
       "    </tr>\n",
       "  </tbody>\n",
       "</table>\n",
       "</div>"
      ],
      "text/plain": [
       "   meal_plan_cod  room_type_cod  mkt_segment_cod  arrival_season_cod   \n",
       "0              1              1                3                   3  \\\n",
       "1              0              1                4                   1   \n",
       "2              1              1                4                   1   \n",
       "3              1              1                4                   1   \n",
       "4              0              1                4                   0   \n",
       "\n",
       "   booking_status_cod  \n",
       "0                   0  \n",
       "1                   0  \n",
       "2                   1  \n",
       "3                   1  \n",
       "4                   1  "
      ]
     },
     "execution_count": 186,
     "metadata": {},
     "output_type": "execute_result"
    }
   ],
   "source": [
    "#DATAFRAME COMPLEMENTARIO\n",
    "df_qualitative = df[qualitative_var].copy()\n",
    "\n",
    "#TRANSFORMACION VARIABLES ORDINALES\n",
    "df_qualitative.loc[:,'meal_plan_cod'] = df_qualitative.meal_plan.apply(get_ordinal_var)\n",
    "df_qualitative.meal_plan_cod = df_qualitative.meal_plan_cod.astype(int)\n",
    "\n",
    "df_qualitative.loc[:,'room_type_cod'] = df_qualitative.room_type.apply(get_ordinal_var)\n",
    "df_qualitative.room_type_cod = df_qualitative.room_type_cod.astype(int)\n",
    "\n",
    "#TRANSFORMACION VARIABLES NOMINALES\n",
    "encoder = LabelEncoder()\n",
    "df_qualitative['mkt_segment_cod'] = encoder.fit_transform(df_qualitative.mkt_segment.values)\n",
    "df_qualitative['arrival_season_cod'] = encoder.fit_transform(df_qualitative.arrival_season.values)\n",
    "\n",
    "df_qualitative['booking_status_cod'] = df_qualitative['booking_status']\n",
    "df_qualitative['booking_status_cod'] = df_qualitative['booking_status_cod'].str.replace('No cancelada','0')\n",
    "df_qualitative['booking_status_cod'] = df_qualitative['booking_status_cod'].str.replace('Cancelada','1')\n",
    "df_qualitative['booking_status_cod'] = df_qualitative['booking_status_cod'].astype(int)\n",
    "\n",
    "#SE ELIMINAN LAS VARIABLES NO NECESARIAS\n",
    "df_qualitative.drop(columns=qualitative_var, inplace=True)\n",
    "\n",
    "\n",
    "df_qualitative.head()"
   ]
  },
  {
   "cell_type": "markdown",
   "metadata": {},
   "source": [
    "Luego de crear las variables numericas se las insertan en el datafreme original"
   ]
  },
  {
   "cell_type": "code",
   "execution_count": 187,
   "metadata": {},
   "outputs": [
    {
     "name": "stdout",
     "output_type": "stream",
     "text": [
      "<class 'pandas.core.frame.DataFrame'>\n",
      "Index: 36133 entries, 0 to 36274\n",
      "Data columns (total 26 columns):\n",
      " #   Column                  Non-Null Count  Dtype  \n",
      "---  ------                  --------------  -----  \n",
      " 0   Booking_ID              36133 non-null  object \n",
      " 1   num_adults              36133 non-null  int64  \n",
      " 2   num_children            36133 non-null  int64  \n",
      " 3   weekend_nights          36133 non-null  int64  \n",
      " 4   week_nights             36133 non-null  int64  \n",
      " 5   total_nights            36133 non-null  int64  \n",
      " 6   meal_plan               36133 non-null  object \n",
      " 7   car_parking             36133 non-null  int64  \n",
      " 8   room_type               36133 non-null  object \n",
      " 9   lead_time               36133 non-null  int64  \n",
      " 10  arrival_year            36133 non-null  int64  \n",
      " 11  arrival_month           36133 non-null  int64  \n",
      " 12  arrival_day             36133 non-null  int64  \n",
      " 13  arrival_season          36133 non-null  object \n",
      " 14  mkt_segment             36133 non-null  object \n",
      " 15  repeated_guest          36133 non-null  int64  \n",
      " 16  num_prev_cancellations  36133 non-null  int64  \n",
      " 17  num_prev_not_canceled   36133 non-null  int64  \n",
      " 18  avg_price_room          36133 non-null  float64\n",
      " 19  num_sp_requests         36133 non-null  int64  \n",
      " 20  booking_status          36133 non-null  object \n",
      " 21  meal_plan_cod           36133 non-null  int32  \n",
      " 22  room_type_cod           36133 non-null  int32  \n",
      " 23  mkt_segment_cod         36133 non-null  int32  \n",
      " 24  arrival_season_cod      36133 non-null  int32  \n",
      " 25  booking_status_cod      36133 non-null  int32  \n",
      "dtypes: float64(1), int32(5), int64(14), object(6)\n",
      "memory usage: 7.8+ MB\n"
     ]
    }
   ],
   "source": [
    "#CONCATENACION DE DATAFRAMES\n",
    "df = pd.concat([df, df_qualitative], axis=1)\n",
    "\n",
    "#SE LIBERAN RECURSOS\n",
    "del df_qualitative\n",
    "\n",
    "#INFO\n",
    "df.info()"
   ]
  },
  {
   "cell_type": "markdown",
   "metadata": {},
   "source": [
    "### Variable ***avg_price_room***"
   ]
  },
  {
   "cell_type": "markdown",
   "metadata": {},
   "source": [
    "Esta variable describe el precio promedio en euros de la habitacion rentada. El metodo ***describe()*** en la celda posterior, muestra el valor ***cero*** como minimo de la variable, lo cual no tiene sentido para este caso. Tambien se observa un valor maximo que se despega bastante del 3er cuartil lo cual puede que sea un indicio de la presencia de valores atipicos. En esta seccion se evaluaran los casos mencionados y la forma en que estos seran tratados."
   ]
  },
  {
   "cell_type": "code",
   "execution_count": 188,
   "metadata": {},
   "outputs": [
    {
     "data": {
      "text/plain": [
       "count    36133.000000\n",
       "mean       103.509164\n",
       "std         35.062636\n",
       "min          0.000000\n",
       "25%         80.390000\n",
       "50%         99.480000\n",
       "75%        120.120000\n",
       "max        540.000000\n",
       "Name: avg_price_room, dtype: float64"
      ]
     },
     "execution_count": 188,
     "metadata": {},
     "output_type": "execute_result"
    }
   ],
   "source": [
    "df.avg_price_room.describe()"
   ]
  },
  {
   "cell_type": "code",
   "execution_count": 189,
   "metadata": {},
   "outputs": [
    {
     "data": {
      "image/png": "[encoded data removed]",
      "text/plain": [
       "<Figure size 800x300 with 1 Axes>"
      ]
     },
     "metadata": {},
     "output_type": "display_data"
    }
   ],
   "source": [
    "#BOXPLOT PARA IDENTIFICAR OUTLIERS\n",
    "plt.figure(figsize=(8,3))\n",
    "mpl.style.use('bmh')\n",
    "sns.boxplot(x=df.avg_price_room)\n",
    "plt.title(f'Distribucion de la variable avg_price_room')\n",
    "plt.xlabel('Precio (EUR)')\n",
    "plt.ylabel('Variable')\n",
    "plt.tight_layout()\n",
    "plt.show()\n",
    "mpl.style.use('default')"
   ]
  },
  {
   "cell_type": "code",
   "execution_count": 190,
   "metadata": {},
   "outputs": [
    {
     "name": "stdout",
     "output_type": "stream",
     "text": [
      "Cantidad de outliers encontrados: 1784\n"
     ]
    }
   ],
   "source": [
    "#SE IMPORTA MODELO DETECCION DE IUTLIERS\n",
    "from sklearn.covariance import EllipticEnvelope\n",
    "\n",
    "#SE RESETEAN INDICES PARA EVITAR INCONCISTENCIAS\n",
    "df = df.reset_index()\n",
    "\n",
    "#SE INSTANCIA EL MODELO Y SE REALIZA PREDICCION\n",
    "cov_det = EllipticEnvelope(contamination=0.05)\n",
    "predict = cov_det.fit_predict(df.avg_price_room.values.reshape(-1,1))\n",
    "\n",
    "#SE CREA DATAFRAME DE REFERENCIA PARA PRECIOS OUTLIERS\n",
    "predict = pd.concat([df.avg_price_room,\n",
    "                     pd.Series(predict.flatten(), name='is_outlier')],\n",
    "                     axis=1)\n",
    "\n",
    "#CONTEO DE OUTLIERS\n",
    "print(f'Cantidad de outliers encontrados: {predict.loc[predict.is_outlier == -1].shape[0]}')"
   ]
  },
  {
   "cell_type": "code",
   "execution_count": 191,
   "metadata": {},
   "outputs": [
    {
     "data": {
      "image/png": "[encoded data removed]",
      "text/plain": [
       "<Figure size 1000x500 with 2 Axes>"
      ]
     },
     "metadata": {},
     "output_type": "display_data"
    }
   ],
   "source": [
    "#REPRESENTACION GRAFICA DE OUTLIERS\n",
    "mpl.style.use('bmh')\n",
    "plt.figure(figsize=(10,5))\n",
    "plt.scatter(predict.index, predict.avg_price_room, c=predict.is_outlier, cmap='viridis')\n",
    "plt.xlabel('Índice de la muestra')\n",
    "plt.ylabel('Valor de la variable')\n",
    "plt.title('Minimun Covariance Determinant para detección de outliers')\n",
    "plt.colorbar(label='Etiqueta de predicción')\n",
    "plt.show()\n",
    "mpl.style.use('bmh')"
   ]
  },
  {
   "cell_type": "markdown",
   "metadata": {},
   "source": [
    "#### Feature Engineering para entrenar modelo"
   ]
  },
  {
   "cell_type": "code",
   "execution_count": 192,
   "metadata": {},
   "outputs": [],
   "source": [
    "#SE CREA DATAFRAME COMPLEMENTARIO PARA TESTEAR MODELO\n",
    "_df = pd.concat([df, predict.is_outlier], axis=1)\n",
    "\n",
    "#TRANSFORMACION DE VARIABLES TOTAL_CHILDREN y TOTAL_ADULTS\n",
    "_df.loc[: ,'total_guests'] = _df.apply(lambda x: x.num_adults + x.num_children, axis=1)\n",
    "\n",
    "#ENCODING DE VARIABLES CUALITATIVAS QUE CORRELACIONAN CON LA VARIABLE A PREDECIR\n",
    "var_dummy = pd.get_dummies(_df[['mkt_segment','room_type']], dtype=int)"
   ]
  },
  {
   "cell_type": "code",
   "execution_count": 193,
   "metadata": {},
   "outputs": [],
   "source": [
    "#LISTA DE VARIABLES DE \"_df\" IMPLICADAS EN LA SELECCION \n",
    "vars = [ 'booking_status_cod','lead_time','total_guests', 'arrival_year',\n",
    "         'num_sp_requests', 'is_outlier','avg_price_room']\n",
    "\n",
    "#UNION DE TODAS LAS VARIABLES IMPLICADAS EN LA SELECCION\n",
    "_df = pd.concat([ var_dummy, _df[vars]], axis=1)\n",
    "\n",
    "#VARIABLE TARGET PARA ENTRENAMIENTO\n",
    "y = _df.loc[_df.is_outlier == 1, 'avg_price_room']\n",
    "\n",
    "#LISTA DE VARIABLES PREDICTIVAS\n",
    "vars = list(_df.columns)[:-2]\n",
    "\n",
    "#SELECCION DE VARIABLES PREDICTIVAS PARA ENTRENAMIENTO Y A PREDECIR\n",
    "x = _df.loc[_df.is_outlier == 1, vars]\n",
    "x_outlier = _df.loc[_df.is_outlier == -1, vars]"
   ]
  },
  {
   "cell_type": "markdown",
   "metadata": {},
   "source": [
    "#### Entrenamiento de modelo ***Random Forest Regressor*** para imputar outliers"
   ]
  },
  {
   "cell_type": "code",
   "execution_count": 194,
   "metadata": {},
   "outputs": [],
   "source": [
    "#IMPORTACION DE LIBRERIAS\n",
    "from sklearn.model_selection import train_test_split\n",
    "from sklearn.metrics import mean_squared_error, r2_score\n",
    "from sklearn.ensemble import RandomForestRegressor"
   ]
  },
  {
   "cell_type": "code",
   "execution_count": 195,
   "metadata": {},
   "outputs": [],
   "source": [
    "#SELECCION DE DATOS PARA ENTRENAMIENTO Y TEST\n",
    "X_train, X_test, y_train, y_test = train_test_split(x, y, test_size=0.33, random_state=42)\n",
    "\n",
    "#INSTANCIA, ENTRENAMIENTO Y PREDICCION\n",
    "model = RandomForestRegressor(max_depth=12, max_features=0.5, n_estimators=100, random_state=42)\n",
    "model.fit(X_train, y_train)\n",
    "y_pred = model.predict(X_test)"
   ]
  },
  {
   "cell_type": "code",
   "execution_count": 196,
   "metadata": {},
   "outputs": [
    {
     "name": "stdout",
     "output_type": "stream",
     "text": [
      "Mean Squared Error (MSE): 378.4133710739239\n",
      "Root Mean Squared Error (RMSE): 19.45284994734509\n",
      "R^2 Score: 0.48299774576418997\n"
     ]
    }
   ],
   "source": [
    "#METRICAS DE REGRESION\n",
    "mse = mean_squared_error(y_test, y_pred)\n",
    "print(f\"Mean Squared Error (MSE): {mse}\")\n",
    "\n",
    "rmse = np.sqrt(mse)\n",
    "print(f\"Root Mean Squared Error (RMSE): {rmse}\")\n",
    "\n",
    "r2 = r2_score(y_test, y_pred)\n",
    "print(f\"R^2 Score: {r2}\")"
   ]
  },
  {
   "cell_type": "markdown",
   "metadata": {},
   "source": [
    "#### Imputacion y analisis"
   ]
  },
  {
   "cell_type": "code",
   "execution_count": 197,
   "metadata": {},
   "outputs": [],
   "source": [
    "#PREDICCION DE PRECIOS\n",
    "y_pred = model.predict(x_outlier)\n",
    "\n",
    "#SE AGREGA AL DATAFRAME PRINCIPAL\n",
    "_df.loc[_df.is_outlier == -1, 'avg_price_room'] = y_pred\n",
    "\n",
    "#SE REEMPLAZAN LOS VALORES DEL DATAFRAME PRINCIPAL\n",
    "df.avg_price_room = _df.avg_price_room"
   ]
  },
  {
   "cell_type": "code",
   "execution_count": 198,
   "metadata": {},
   "outputs": [
    {
     "data": {
      "image/png": "[encoded data removed]",
      "text/plain": [
       "<Figure size 1200x400 with 2 Axes>"
      ]
     },
     "metadata": {},
     "output_type": "display_data"
    }
   ],
   "source": [
    "#GRAFICO DE COMPARACION DE DISTRIBUCIONES\n",
    "plt.style.use(\"bmh\")    \n",
    "fig, ax = plt.subplots(ncols=2, nrows=1, figsize=(12,4))\n",
    "\n",
    "#GRAFICO 1\n",
    "sns.kdeplot(x=predict.avg_price_room, ax=ax[0])\n",
    "ax[0].set_title('Distribucion original')\n",
    "ax[0].set_xlabel('Precio(EUR)')\n",
    " \n",
    "#GRAFICO 2\n",
    "sns.kdeplot(data=df.avg_price_room, ax=ax[1])\n",
    "ax[1].set_xlabel('Precio(EUR)')\n",
    "ax[1].set_title(f'Distribucion despues de imputar')\n",
    "\n",
    "#PLOTEO\n",
    "plt.tight_layout()\n",
    "plt.show()\n",
    "plt.style.use(\"default\")"
   ]
  },
  {
   "cell_type": "code",
   "execution_count": 199,
   "metadata": {},
   "outputs": [
    {
     "name": "stdout",
     "output_type": "stream",
     "text": [
      "-----Antes de imputar-----\n"
     ]
    },
    {
     "data": {
      "text/plain": [
       "median        99.4800\n",
       "mean         103.5092\n",
       "mode          65.0000\n",
       "std           35.0626\n",
       "variance    1229.3884\n",
       "skew           0.6760\n",
       "kurtosys       3.1577\n",
       "dtype: float64"
      ]
     },
     "execution_count": 199,
     "metadata": {},
     "output_type": "execute_result"
    }
   ],
   "source": [
    "#INFO VARIABLE ANTES DE IMPUTAR\n",
    "print('-----Antes de imputar-----')\n",
    "DescrStat.get_var_data(predict.avg_price_room)"
   ]
  },
  {
   "cell_type": "code",
   "execution_count": 200,
   "metadata": {},
   "outputs": [
    {
     "name": "stdout",
     "output_type": "stream",
     "text": [
      "-----Despues de imputar-----\n"
     ]
    },
    {
     "data": {
      "text/plain": [
       "median       99.9000\n",
       "mean        103.0559\n",
       "mode         65.0000\n",
       "std          27.7816\n",
       "variance    771.8190\n",
       "skew          0.4387\n",
       "kurtosys     -0.4077\n",
       "dtype: float64"
      ]
     },
     "execution_count": 200,
     "metadata": {},
     "output_type": "execute_result"
    }
   ],
   "source": [
    "#INFO VARIABLE DESPUES DE IMPUTAR\n",
    "print('-----Despues de imputar-----')\n",
    "DescrStat.get_var_data(df.avg_price_room)"
   ]
  },
  {
   "cell_type": "code",
   "execution_count": 201,
   "metadata": {},
   "outputs": [
    {
     "data": {
      "image/png": "[encoded data removed]",
      "text/plain": [
       "<Figure size 800x300 with 1 Axes>"
      ]
     },
     "metadata": {},
     "output_type": "display_data"
    }
   ],
   "source": [
    "#BOXPLOT PARA IDENTIFICAR OUTLIERS\n",
    "plt.figure(figsize=(8,3))\n",
    "mpl.style.use('bmh')\n",
    "sns.boxplot(x=df.avg_price_room)\n",
    "plt.title(f'Distribucion de la variable avg_price_room')\n",
    "plt.xlabel('Precio (EUR)')\n",
    "plt.ylabel('Variable')\n",
    "plt.tight_layout()\n",
    "plt.show()\n",
    "mpl.style.use('default')"
   ]
  },
  {
   "cell_type": "code",
   "execution_count": 43,
   "metadata": {},
   "outputs": [
    {
     "data": {
      "text/plain": [
       "count    36133.00000\n",
       "mean       103.05591\n",
       "std         27.78163\n",
       "min         23.00000\n",
       "25%         81.00000\n",
       "50%         99.90000\n",
       "75%        120.00000\n",
       "max        177.00000\n",
       "Name: avg_price_room, dtype: float64"
      ]
     },
     "execution_count": 43,
     "metadata": {},
     "output_type": "execute_result"
    }
   ],
   "source": [
    "#SE LIBERAN RECURSOS\n",
    "del _df\n",
    "del predict\n",
    "del cov_det\n",
    "del model\n",
    "del x, y\n",
    "del X_train, X_test, y_train, y_test\n",
    "del y_pred\n",
    "\n",
    "#INFO\n",
    "df.avg_price_room.describe()"
   ]
  },
  {
   "cell_type": "markdown",
   "metadata": {},
   "source": [
    "### GUARDADO CHECKPOINT"
   ]
  },
  {
   "cell_type": "code",
   "execution_count": 44,
   "metadata": {},
   "outputs": [],
   "source": [
    "#df.to_csv('Hotel_Reservations_clean.csv', index=False)"
   ]
  }
 ],
 "metadata": {
  "kernelspec": {
   "display_name": "Python 3",
   "language": "python",
   "name": "python3"
  },
  "language_info": {
   "codemirror_mode": {
    "name": "ipython",
    "version": 3
   },
   "file_extension": ".py",
   "mimetype": "text/x-python",
   "name": "python",
   "nbconvert_exporter": "python",
   "pygments_lexer": "ipython3",
   "version": "3.11.3"
  }
 },
 "nbformat": 4,
 "nbformat_minor": 2
}
